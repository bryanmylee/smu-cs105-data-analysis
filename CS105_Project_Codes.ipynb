{
 "cells": [
  {
   "cell_type": "markdown",
   "metadata": {
    "colab_type": "text",
    "id": "xgApGFOSBPFq"
   },
   "source": [
    "# CS105 Final Project: G1-T15 "
   ]
  },
  {
   "cell_type": "markdown",
   "metadata": {
    "colab_type": "text",
    "id": "_3bRUyl6Jh5_"
   },
   "source": [
    "#### Table of Contents\n",
    "\n",
    "1. Introduction\n",
    "2. Dataset preprocessing\n",
    "3. Exploratory Data Analysis\n",
    "    - Univariate analysis\n",
    "        - Five-number summary\n",
    "        - Boxplot\n",
    "        - Histogram subplots\n",
    "    - Multivariate analysis\n",
    "        - Features and `G3` mean subplots\n",
    "        - Heatmap\n",
    "4. Insights\n",
    "5. Classification model \n",
    "6. Conclusion\n",
    "7. References\n"
   ]
  },
  {
   "cell_type": "markdown",
   "metadata": {},
   "source": [
    "## 1 - Introduction"
   ]
  },
  {
   "cell_type": "markdown",
   "metadata": {
    "colab_type": "text",
    "id": "US8R7PgCHmKZ"
   },
   "source": [
    "Academic performance is often seen as an important marker for success in early life. In the absence of other metrics, it may be used to assess an individual’s work ethic and personality.\n",
    "\n",
    "Furthermore, access to employment opportunities and higher education is heavily predicated on having a good academic record. While academic performance tends to be attributed to personal factors, many external factors play a vital role as well. Indeed, it is well-understood that students who come from families with a higher socioeconomic status tend to outperform those from the lower end of the spectrum. While this inequality is difficult to mitigate, there are many ways in which aid is granted to disadvantaged students, such as through\n",
    "scholarships, bursaries and counselling services.\n",
    "\n",
    "In this project, we seek to identify the most crucial social factors that predict students’ academic performance. This may be useful in helping to identify at-risk youth, or in constructing policies to support those who are the most disadvantaged within the community.\n",
    "\n",
    "Finally, for the layperson, it can help to broaden perspectives by giving them different ways to understand differences in student performance."
   ]
  },
  {
   "cell_type": "markdown",
   "metadata": {},
   "source": [
    "We are using a dataset `student-mat.csv`, which contains the grades achieved by students from two Portuguese schools. The students are enrolled in secondary education and the grades are for the subject of Mathematics. The dataset has no missing values in its columns, and the data dictionary is defined as follows:\n",
    "\n",
    "| Column number | Column name | Explanation | Data type |\n",
    "|:---:|:---|:---|:---|\n",
    "|1 | school | student's school | **string**: \"GP\" - Gabriel Pereira or \"MS\" - Mousinho da Silveira|\n",
    "|2 | sex | student's sex | **string**: \"F\" - female or \"M\" - male|\n",
    "|3 | age | student's age | **int**: from 15 to 22|\n",
    "|4 | address | student's home address type | **object**: \"U\" - urban or \"R\" - rural|\n",
    "|5 | famsize | family size | **string**: \"LE3\" - less or equal to 3 or \"GT3\" - greater than 3|\n",
    "|6 | Pstatus | parent's cohabitation status | **string**: \"T\" - living together or \"A\" - apart|\n",
    "|7 | Medu | mother's education | **int**: 0 - none,  1 - primary education 4th grade, 2 – 5th to 9th grade, 3 – secondary education or 4 – higher education|\n",
    "|8 | Fedu | father's education | **int**: 0 - none,  1 - primary education 4th grade, 2 – 5th to 9th grade, 3 – secondary education or 4 – higher education|\n",
    "|9 | Mjob | mother's job | **string**: \"teacher\", \"health\" care related, civil \"services\" e.g. administrative or police, \"at_home\" or \"other\"|\n",
    "|10| Fjob | father's job | **string**: \"teacher\", \"health\" care related, civil \"services\" e.g. administrative or police, \"at_home\" or \"other\"|\n",
    "|11| reason | reason to choose this school | **string**: close to \"home\", school \"reputation\", \"course\" preference or \"other\"|\n",
    "|12| guardian | student's guardian | **string**: \"mother\", \"father\" or \"other\"|\n",
    "|13| traveltime | home to school travel time | **int**: 1 - <15 min., 2 - 15 to 30 min., 3 - 30 min. to 1 hour, or 4 - >1 hour|\n",
    "|14| studytime | weekly study time | **int**: 1 - <2 hours, 2 - 2 to 5 hours, 3 - 5 to 10 hours, or 4 - >10 hours|\n",
    "|15| failures | number of past class failures | **int**: _n_ if 1<=_n_<3, else 4|\n",
    "|16| schoolsup | extra educational support | **string**: yes or no|\n",
    "|17| famsup | family educational support | **string**: yes or no|\n",
    "|18| paid |  extra paid classes within the course subject Math or Portuguese | **string**: yes or no|\n",
    "|19| activities |  extra-curricular activities | **string**: yes or no|\n",
    "|20| nursery |  attended nursery school | **string**: yes or no|\n",
    "|21| higher |  wants to take higher education | **string**: yes or no|\n",
    "|22| internet |  Internet access at home | **string**: yes or no|\n",
    "|23| romantic |  with a romantic relationship | **string**: yes or no|\n",
    "|24| famrel | quality of family relationships | **int**: from 1 - very bad to 5 - excellent|\n",
    "|25| freetime | free time after school | **int**: from 1 - very low to 5 - very high|\n",
    "|26| goout | going out with friends | **int**: from 1 - very low to 5 - very high|\n",
    "|27| Dalc | workday alcohol consumption | **int**: from 1 - very low to 5 - very high|\n",
    "|28| Walc | weekend alcohol consumption | **int**: from 1 - very low to 5 - very high|\n",
    "|29| health | current health status | **int**: from 1 - very bad to 5 - very good|\n",
    "|30| absences | number of school absences | **int**: from 0 to 93|\n",
    "|31| G1 | first period grade | **int**: from 0 to 20|\n",
    "|31| G2 | second period grade | **int**: from 0 to 20|\n",
    "|32| G3 | final grade | **int**: from 0 to 20, output target|"
   ]
  },
  {
   "cell_type": "markdown",
   "metadata": {},
   "source": [
    "## 2 - Dataset Preprocessing"
   ]
  },
  {
   "cell_type": "code",
   "execution_count": 2,
   "metadata": {
    "colab": {},
    "colab_type": "code",
    "id": "LgGaePpVJpg_"
   },
   "outputs": [],
   "source": [
    "import numpy as np\n",
    "import pandas as pd\n",
    "pd.set_option(\"display.max_columns\", None)\n",
    "from plotly.subplots import make_subplots\n",
    "import plotly.graph_objects as go\n",
    "import plotly.express as px\n",
    "\n",
    "data = pd.read_csv(\"student/student-mat.csv\", sep=';')"
   ]
  },
  {
   "cell_type": "code",
   "execution_count": 3,
   "metadata": {},
   "outputs": [
    {
     "output_type": "execute_result",
     "data": {
      "text/plain": "school        object\nsex           object\nage            int64\naddress       object\nfamsize       object\nPstatus       object\nMedu           int64\nFedu           int64\nMjob          object\nFjob          object\nreason        object\nguardian      object\ntraveltime     int64\nstudytime      int64\nfailures       int64\nschoolsup     object\nfamsup        object\npaid          object\nactivities    object\nnursery       object\nhigher        object\ninternet      object\nromantic      object\nfamrel         int64\nfreetime       int64\ngoout          int64\nDalc           int64\nWalc           int64\nhealth         int64\nabsences       int64\nG1             int64\nG2             int64\nG3             int64\ndtype: object"
     },
     "metadata": {},
     "execution_count": 3
    }
   ],
   "source": [
    "data.dtypes"
   ]
  },
  {
   "cell_type": "code",
   "execution_count": 4,
   "metadata": {},
   "outputs": [],
   "source": [
    "datatypes = data.dtypes.drop(labels=[\"G1\", \"G2\", \"G3\"])\n",
    "all_features = datatypes.index"
   ]
  },
  {
   "cell_type": "markdown",
   "metadata": {},
   "source": [
    "There are many columns that are of datatype `object`, but only take 2 possible values, and thus can be considered as binary. We convert these columns (e.g. sex, address, famsize, etc) into `int` datatypes taking either 1 or 0, so that we can process this data using methods of analysis for numerical variables as well"
   ]
  },
  {
   "cell_type": "code",
   "execution_count": 5,
   "metadata": {
    "colab": {
     "base_uri": "https://localhost:8080/",
     "height": 224
    },
    "colab_type": "code",
    "id": "ryeJhhhdggnk",
    "outputId": "20f26752-fd86-47f4-ced9-74daa4bcddd4"
   },
   "outputs": [
    {
     "output_type": "execute_result",
     "data": {
      "text/plain": "   school sex  age address famsize Pstatus  Medu  Fedu      Mjob      Fjob  \\\n0      GP   F   18       U     GT3       A     4     4   at_home   teacher   \n1      GP   F   17       U     GT3       T     1     1   at_home     other   \n2      GP   F   15       U     LE3       T     1     1   at_home     other   \n3      GP   F   15       U     GT3       T     4     2    health  services   \n4      GP   F   16       U     GT3       T     3     3     other     other   \n5      GP   M   16       U     LE3       T     4     3  services     other   \n6      GP   M   16       U     LE3       T     2     2     other     other   \n7      GP   F   17       U     GT3       A     4     4     other   teacher   \n8      GP   M   15       U     LE3       A     3     2  services     other   \n9      GP   M   15       U     GT3       T     3     4     other     other   \n10     GP   F   15       U     GT3       T     4     4   teacher    health   \n11     GP   F   15       U     GT3       T     2     1  services     other   \n12     GP   M   15       U     LE3       T     4     4    health  services   \n13     GP   M   15       U     GT3       T     4     3   teacher     other   \n14     GP   M   15       U     GT3       A     2     2     other     other   \n15     GP   F   16       U     GT3       T     4     4    health     other   \n16     GP   F   16       U     GT3       T     4     4  services  services   \n17     GP   F   16       U     GT3       T     3     3     other     other   \n18     GP   M   17       U     GT3       T     3     2  services  services   \n19     GP   M   16       U     LE3       T     4     3    health     other   \n\n        reason guardian  traveltime  studytime  failures schoolsup famsup  \\\n0       course   mother           2          2         0       yes     no   \n1       course   father           1          2         0        no    yes   \n2        other   mother           1          2         3       yes     no   \n3         home   mother           1          3         0        no    yes   \n4         home   father           1          2         0        no    yes   \n5   reputation   mother           1          2         0        no    yes   \n6         home   mother           1          2         0        no     no   \n7         home   mother           2          2         0       yes    yes   \n8         home   mother           1          2         0        no    yes   \n9         home   mother           1          2         0        no    yes   \n10  reputation   mother           1          2         0        no    yes   \n11  reputation   father           3          3         0        no    yes   \n12      course   father           1          1         0        no    yes   \n13      course   mother           2          2         0        no    yes   \n14        home    other           1          3         0        no    yes   \n15        home   mother           1          1         0        no    yes   \n16  reputation   mother           1          3         0        no    yes   \n17  reputation   mother           3          2         0       yes    yes   \n18      course   mother           1          1         3        no    yes   \n19        home   father           1          1         0        no     no   \n\n   paid activities nursery higher internet romantic  famrel  freetime  goout  \\\n0    no         no     yes    yes       no       no       4         3      4   \n1    no         no      no    yes      yes       no       5         3      3   \n2   yes         no     yes    yes      yes       no       4         3      2   \n3   yes        yes     yes    yes      yes      yes       3         2      2   \n4   yes         no     yes    yes       no       no       4         3      2   \n5   yes        yes     yes    yes      yes       no       5         4      2   \n6    no         no     yes    yes      yes       no       4         4      4   \n7    no         no     yes    yes       no       no       4         1      4   \n8   yes         no     yes    yes      yes       no       4         2      2   \n9   yes        yes     yes    yes      yes       no       5         5      1   \n10  yes         no     yes    yes      yes       no       3         3      3   \n11   no        yes     yes    yes      yes       no       5         2      2   \n12  yes        yes     yes    yes      yes       no       4         3      3   \n13  yes         no     yes    yes      yes       no       5         4      3   \n14   no         no     yes    yes      yes      yes       4         5      2   \n15   no         no     yes    yes      yes       no       4         4      4   \n16  yes        yes     yes    yes      yes       no       3         2      3   \n17   no        yes     yes    yes       no       no       5         3      2   \n18   no        yes     yes    yes      yes       no       5         5      5   \n19  yes        yes     yes    yes      yes       no       3         1      3   \n\n    Dalc  Walc  health  absences  G1  G2  G3  sex_bin  address_bin  \\\n0      1     1       3         6   5   6   6        0            1   \n1      1     1       3         4   5   5   6        0            1   \n2      2     3       3        10   7   8  10        0            1   \n3      1     1       5         2  15  14  15        0            1   \n4      1     2       5         4   6  10  10        0            1   \n5      1     2       5        10  15  15  15        1            1   \n6      1     1       3         0  12  12  11        1            1   \n7      1     1       1         6   6   5   6        0            1   \n8      1     1       1         0  16  18  19        1            1   \n9      1     1       5         0  14  15  15        1            1   \n10     1     2       2         0  10   8   9        0            1   \n11     1     1       4         4  10  12  12        0            1   \n12     1     3       5         2  14  14  14        1            1   \n13     1     2       3         2  10  10  11        1            1   \n14     1     1       3         0  14  16  16        1            1   \n15     1     2       2         4  14  14  14        0            1   \n16     1     2       2         6  13  14  14        0            1   \n17     1     1       4         4   8  10  10        0            1   \n18     2     4       5        16   6   5   5        1            1   \n19     1     3       5         4   8  10  10        1            1   \n\n    famsize_bin  Pstatus_bin  schoolsup_bin  famsup_bin  paid_bin  \\\n0             1            0              1           0         0   \n1             1            1              0           1         0   \n2             0            1              1           0         1   \n3             1            1              0           1         1   \n4             1            1              0           1         1   \n5             0            1              0           1         1   \n6             0            1              0           0         0   \n7             1            0              1           1         0   \n8             0            0              0           1         1   \n9             1            1              0           1         1   \n10            1            1              0           1         1   \n11            1            1              0           1         0   \n12            0            1              0           1         1   \n13            1            1              0           1         1   \n14            1            0              0           1         0   \n15            1            1              0           1         0   \n16            1            1              0           1         1   \n17            1            1              1           1         0   \n18            1            1              0           1         0   \n19            0            1              0           0         1   \n\n    activities_bin  nursery_bin  higher_bin  internet_bin  romantic_bin  \n0                0            1           1             0             0  \n1                0            0           1             1             0  \n2                0            1           1             1             0  \n3                1            1           1             1             1  \n4                0            1           1             0             0  \n5                1            1           1             1             0  \n6                0            1           1             1             0  \n7                0            1           1             0             0  \n8                0            1           1             1             0  \n9                1            1           1             1             0  \n10               0            1           1             1             0  \n11               1            1           1             1             0  \n12               1            1           1             1             0  \n13               0            1           1             1             0  \n14               0            1           1             1             1  \n15               0            1           1             1             0  \n16               1            1           1             1             0  \n17               1            1           1             0             0  \n18               1            1           1             1             0  \n19               1            1           1             1             0  ",
      "text/html": "<div>\n<style scoped>\n    .dataframe tbody tr th:only-of-type {\n        vertical-align: middle;\n    }\n\n    .dataframe tbody tr th {\n        vertical-align: top;\n    }\n\n    .dataframe thead th {\n        text-align: right;\n    }\n</style>\n<table border=\"1\" class=\"dataframe\">\n  <thead>\n    <tr style=\"text-align: right;\">\n      <th></th>\n      <th>school</th>\n      <th>sex</th>\n      <th>age</th>\n      <th>address</th>\n      <th>famsize</th>\n      <th>Pstatus</th>\n      <th>Medu</th>\n      <th>Fedu</th>\n      <th>Mjob</th>\n      <th>Fjob</th>\n      <th>reason</th>\n      <th>guardian</th>\n      <th>traveltime</th>\n      <th>studytime</th>\n      <th>failures</th>\n      <th>schoolsup</th>\n      <th>famsup</th>\n      <th>paid</th>\n      <th>activities</th>\n      <th>nursery</th>\n      <th>higher</th>\n      <th>internet</th>\n      <th>romantic</th>\n      <th>famrel</th>\n      <th>freetime</th>\n      <th>goout</th>\n      <th>Dalc</th>\n      <th>Walc</th>\n      <th>health</th>\n      <th>absences</th>\n      <th>G1</th>\n      <th>G2</th>\n      <th>G3</th>\n      <th>sex_bin</th>\n      <th>address_bin</th>\n      <th>famsize_bin</th>\n      <th>Pstatus_bin</th>\n      <th>schoolsup_bin</th>\n      <th>famsup_bin</th>\n      <th>paid_bin</th>\n      <th>activities_bin</th>\n      <th>nursery_bin</th>\n      <th>higher_bin</th>\n      <th>internet_bin</th>\n      <th>romantic_bin</th>\n    </tr>\n  </thead>\n  <tbody>\n    <tr>\n      <th>0</th>\n      <td>GP</td>\n      <td>F</td>\n      <td>18</td>\n      <td>U</td>\n      <td>GT3</td>\n      <td>A</td>\n      <td>4</td>\n      <td>4</td>\n      <td>at_home</td>\n      <td>teacher</td>\n      <td>course</td>\n      <td>mother</td>\n      <td>2</td>\n      <td>2</td>\n      <td>0</td>\n      <td>yes</td>\n      <td>no</td>\n      <td>no</td>\n      <td>no</td>\n      <td>yes</td>\n      <td>yes</td>\n      <td>no</td>\n      <td>no</td>\n      <td>4</td>\n      <td>3</td>\n      <td>4</td>\n      <td>1</td>\n      <td>1</td>\n      <td>3</td>\n      <td>6</td>\n      <td>5</td>\n      <td>6</td>\n      <td>6</td>\n      <td>0</td>\n      <td>1</td>\n      <td>1</td>\n      <td>0</td>\n      <td>1</td>\n      <td>0</td>\n      <td>0</td>\n      <td>0</td>\n      <td>1</td>\n      <td>1</td>\n      <td>0</td>\n      <td>0</td>\n    </tr>\n    <tr>\n      <th>1</th>\n      <td>GP</td>\n      <td>F</td>\n      <td>17</td>\n      <td>U</td>\n      <td>GT3</td>\n      <td>T</td>\n      <td>1</td>\n      <td>1</td>\n      <td>at_home</td>\n      <td>other</td>\n      <td>course</td>\n      <td>father</td>\n      <td>1</td>\n      <td>2</td>\n      <td>0</td>\n      <td>no</td>\n      <td>yes</td>\n      <td>no</td>\n      <td>no</td>\n      <td>no</td>\n      <td>yes</td>\n      <td>yes</td>\n      <td>no</td>\n      <td>5</td>\n      <td>3</td>\n      <td>3</td>\n      <td>1</td>\n      <td>1</td>\n      <td>3</td>\n      <td>4</td>\n      <td>5</td>\n      <td>5</td>\n      <td>6</td>\n      <td>0</td>\n      <td>1</td>\n      <td>1</td>\n      <td>1</td>\n      <td>0</td>\n      <td>1</td>\n      <td>0</td>\n      <td>0</td>\n      <td>0</td>\n      <td>1</td>\n      <td>1</td>\n      <td>0</td>\n    </tr>\n    <tr>\n      <th>2</th>\n      <td>GP</td>\n      <td>F</td>\n      <td>15</td>\n      <td>U</td>\n      <td>LE3</td>\n      <td>T</td>\n      <td>1</td>\n      <td>1</td>\n      <td>at_home</td>\n      <td>other</td>\n      <td>other</td>\n      <td>mother</td>\n      <td>1</td>\n      <td>2</td>\n      <td>3</td>\n      <td>yes</td>\n      <td>no</td>\n      <td>yes</td>\n      <td>no</td>\n      <td>yes</td>\n      <td>yes</td>\n      <td>yes</td>\n      <td>no</td>\n      <td>4</td>\n      <td>3</td>\n      <td>2</td>\n      <td>2</td>\n      <td>3</td>\n      <td>3</td>\n      <td>10</td>\n      <td>7</td>\n      <td>8</td>\n      <td>10</td>\n      <td>0</td>\n      <td>1</td>\n      <td>0</td>\n      <td>1</td>\n      <td>1</td>\n      <td>0</td>\n      <td>1</td>\n      <td>0</td>\n      <td>1</td>\n      <td>1</td>\n      <td>1</td>\n      <td>0</td>\n    </tr>\n    <tr>\n      <th>3</th>\n      <td>GP</td>\n      <td>F</td>\n      <td>15</td>\n      <td>U</td>\n      <td>GT3</td>\n      <td>T</td>\n      <td>4</td>\n      <td>2</td>\n      <td>health</td>\n      <td>services</td>\n      <td>home</td>\n      <td>mother</td>\n      <td>1</td>\n      <td>3</td>\n      <td>0</td>\n      <td>no</td>\n      <td>yes</td>\n      <td>yes</td>\n      <td>yes</td>\n      <td>yes</td>\n      <td>yes</td>\n      <td>yes</td>\n      <td>yes</td>\n      <td>3</td>\n      <td>2</td>\n      <td>2</td>\n      <td>1</td>\n      <td>1</td>\n      <td>5</td>\n      <td>2</td>\n      <td>15</td>\n      <td>14</td>\n      <td>15</td>\n      <td>0</td>\n      <td>1</td>\n      <td>1</td>\n      <td>1</td>\n      <td>0</td>\n      <td>1</td>\n      <td>1</td>\n      <td>1</td>\n      <td>1</td>\n      <td>1</td>\n      <td>1</td>\n      <td>1</td>\n    </tr>\n    <tr>\n      <th>4</th>\n      <td>GP</td>\n      <td>F</td>\n      <td>16</td>\n      <td>U</td>\n      <td>GT3</td>\n      <td>T</td>\n      <td>3</td>\n      <td>3</td>\n      <td>other</td>\n      <td>other</td>\n      <td>home</td>\n      <td>father</td>\n      <td>1</td>\n      <td>2</td>\n      <td>0</td>\n      <td>no</td>\n      <td>yes</td>\n      <td>yes</td>\n      <td>no</td>\n      <td>yes</td>\n      <td>yes</td>\n      <td>no</td>\n      <td>no</td>\n      <td>4</td>\n      <td>3</td>\n      <td>2</td>\n      <td>1</td>\n      <td>2</td>\n      <td>5</td>\n      <td>4</td>\n      <td>6</td>\n      <td>10</td>\n      <td>10</td>\n      <td>0</td>\n      <td>1</td>\n      <td>1</td>\n      <td>1</td>\n      <td>0</td>\n      <td>1</td>\n      <td>1</td>\n      <td>0</td>\n      <td>1</td>\n      <td>1</td>\n      <td>0</td>\n      <td>0</td>\n    </tr>\n    <tr>\n      <th>5</th>\n      <td>GP</td>\n      <td>M</td>\n      <td>16</td>\n      <td>U</td>\n      <td>LE3</td>\n      <td>T</td>\n      <td>4</td>\n      <td>3</td>\n      <td>services</td>\n      <td>other</td>\n      <td>reputation</td>\n      <td>mother</td>\n      <td>1</td>\n      <td>2</td>\n      <td>0</td>\n      <td>no</td>\n      <td>yes</td>\n      <td>yes</td>\n      <td>yes</td>\n      <td>yes</td>\n      <td>yes</td>\n      <td>yes</td>\n      <td>no</td>\n      <td>5</td>\n      <td>4</td>\n      <td>2</td>\n      <td>1</td>\n      <td>2</td>\n      <td>5</td>\n      <td>10</td>\n      <td>15</td>\n      <td>15</td>\n      <td>15</td>\n      <td>1</td>\n      <td>1</td>\n      <td>0</td>\n      <td>1</td>\n      <td>0</td>\n      <td>1</td>\n      <td>1</td>\n      <td>1</td>\n      <td>1</td>\n      <td>1</td>\n      <td>1</td>\n      <td>0</td>\n    </tr>\n    <tr>\n      <th>6</th>\n      <td>GP</td>\n      <td>M</td>\n      <td>16</td>\n      <td>U</td>\n      <td>LE3</td>\n      <td>T</td>\n      <td>2</td>\n      <td>2</td>\n      <td>other</td>\n      <td>other</td>\n      <td>home</td>\n      <td>mother</td>\n      <td>1</td>\n      <td>2</td>\n      <td>0</td>\n      <td>no</td>\n      <td>no</td>\n      <td>no</td>\n      <td>no</td>\n      <td>yes</td>\n      <td>yes</td>\n      <td>yes</td>\n      <td>no</td>\n      <td>4</td>\n      <td>4</td>\n      <td>4</td>\n      <td>1</td>\n      <td>1</td>\n      <td>3</td>\n      <td>0</td>\n      <td>12</td>\n      <td>12</td>\n      <td>11</td>\n      <td>1</td>\n      <td>1</td>\n      <td>0</td>\n      <td>1</td>\n      <td>0</td>\n      <td>0</td>\n      <td>0</td>\n      <td>0</td>\n      <td>1</td>\n      <td>1</td>\n      <td>1</td>\n      <td>0</td>\n    </tr>\n    <tr>\n      <th>7</th>\n      <td>GP</td>\n      <td>F</td>\n      <td>17</td>\n      <td>U</td>\n      <td>GT3</td>\n      <td>A</td>\n      <td>4</td>\n      <td>4</td>\n      <td>other</td>\n      <td>teacher</td>\n      <td>home</td>\n      <td>mother</td>\n      <td>2</td>\n      <td>2</td>\n      <td>0</td>\n      <td>yes</td>\n      <td>yes</td>\n      <td>no</td>\n      <td>no</td>\n      <td>yes</td>\n      <td>yes</td>\n      <td>no</td>\n      <td>no</td>\n      <td>4</td>\n      <td>1</td>\n      <td>4</td>\n      <td>1</td>\n      <td>1</td>\n      <td>1</td>\n      <td>6</td>\n      <td>6</td>\n      <td>5</td>\n      <td>6</td>\n      <td>0</td>\n      <td>1</td>\n      <td>1</td>\n      <td>0</td>\n      <td>1</td>\n      <td>1</td>\n      <td>0</td>\n      <td>0</td>\n      <td>1</td>\n      <td>1</td>\n      <td>0</td>\n      <td>0</td>\n    </tr>\n    <tr>\n      <th>8</th>\n      <td>GP</td>\n      <td>M</td>\n      <td>15</td>\n      <td>U</td>\n      <td>LE3</td>\n      <td>A</td>\n      <td>3</td>\n      <td>2</td>\n      <td>services</td>\n      <td>other</td>\n      <td>home</td>\n      <td>mother</td>\n      <td>1</td>\n      <td>2</td>\n      <td>0</td>\n      <td>no</td>\n      <td>yes</td>\n      <td>yes</td>\n      <td>no</td>\n      <td>yes</td>\n      <td>yes</td>\n      <td>yes</td>\n      <td>no</td>\n      <td>4</td>\n      <td>2</td>\n      <td>2</td>\n      <td>1</td>\n      <td>1</td>\n      <td>1</td>\n      <td>0</td>\n      <td>16</td>\n      <td>18</td>\n      <td>19</td>\n      <td>1</td>\n      <td>1</td>\n      <td>0</td>\n      <td>0</td>\n      <td>0</td>\n      <td>1</td>\n      <td>1</td>\n      <td>0</td>\n      <td>1</td>\n      <td>1</td>\n      <td>1</td>\n      <td>0</td>\n    </tr>\n    <tr>\n      <th>9</th>\n      <td>GP</td>\n      <td>M</td>\n      <td>15</td>\n      <td>U</td>\n      <td>GT3</td>\n      <td>T</td>\n      <td>3</td>\n      <td>4</td>\n      <td>other</td>\n      <td>other</td>\n      <td>home</td>\n      <td>mother</td>\n      <td>1</td>\n      <td>2</td>\n      <td>0</td>\n      <td>no</td>\n      <td>yes</td>\n      <td>yes</td>\n      <td>yes</td>\n      <td>yes</td>\n      <td>yes</td>\n      <td>yes</td>\n      <td>no</td>\n      <td>5</td>\n      <td>5</td>\n      <td>1</td>\n      <td>1</td>\n      <td>1</td>\n      <td>5</td>\n      <td>0</td>\n      <td>14</td>\n      <td>15</td>\n      <td>15</td>\n      <td>1</td>\n      <td>1</td>\n      <td>1</td>\n      <td>1</td>\n      <td>0</td>\n      <td>1</td>\n      <td>1</td>\n      <td>1</td>\n      <td>1</td>\n      <td>1</td>\n      <td>1</td>\n      <td>0</td>\n    </tr>\n    <tr>\n      <th>10</th>\n      <td>GP</td>\n      <td>F</td>\n      <td>15</td>\n      <td>U</td>\n      <td>GT3</td>\n      <td>T</td>\n      <td>4</td>\n      <td>4</td>\n      <td>teacher</td>\n      <td>health</td>\n      <td>reputation</td>\n      <td>mother</td>\n      <td>1</td>\n      <td>2</td>\n      <td>0</td>\n      <td>no</td>\n      <td>yes</td>\n      <td>yes</td>\n      <td>no</td>\n      <td>yes</td>\n      <td>yes</td>\n      <td>yes</td>\n      <td>no</td>\n      <td>3</td>\n      <td>3</td>\n      <td>3</td>\n      <td>1</td>\n      <td>2</td>\n      <td>2</td>\n      <td>0</td>\n      <td>10</td>\n      <td>8</td>\n      <td>9</td>\n      <td>0</td>\n      <td>1</td>\n      <td>1</td>\n      <td>1</td>\n      <td>0</td>\n      <td>1</td>\n      <td>1</td>\n      <td>0</td>\n      <td>1</td>\n      <td>1</td>\n      <td>1</td>\n      <td>0</td>\n    </tr>\n    <tr>\n      <th>11</th>\n      <td>GP</td>\n      <td>F</td>\n      <td>15</td>\n      <td>U</td>\n      <td>GT3</td>\n      <td>T</td>\n      <td>2</td>\n      <td>1</td>\n      <td>services</td>\n      <td>other</td>\n      <td>reputation</td>\n      <td>father</td>\n      <td>3</td>\n      <td>3</td>\n      <td>0</td>\n      <td>no</td>\n      <td>yes</td>\n      <td>no</td>\n      <td>yes</td>\n      <td>yes</td>\n      <td>yes</td>\n      <td>yes</td>\n      <td>no</td>\n      <td>5</td>\n      <td>2</td>\n      <td>2</td>\n      <td>1</td>\n      <td>1</td>\n      <td>4</td>\n      <td>4</td>\n      <td>10</td>\n      <td>12</td>\n      <td>12</td>\n      <td>0</td>\n      <td>1</td>\n      <td>1</td>\n      <td>1</td>\n      <td>0</td>\n      <td>1</td>\n      <td>0</td>\n      <td>1</td>\n      <td>1</td>\n      <td>1</td>\n      <td>1</td>\n      <td>0</td>\n    </tr>\n    <tr>\n      <th>12</th>\n      <td>GP</td>\n      <td>M</td>\n      <td>15</td>\n      <td>U</td>\n      <td>LE3</td>\n      <td>T</td>\n      <td>4</td>\n      <td>4</td>\n      <td>health</td>\n      <td>services</td>\n      <td>course</td>\n      <td>father</td>\n      <td>1</td>\n      <td>1</td>\n      <td>0</td>\n      <td>no</td>\n      <td>yes</td>\n      <td>yes</td>\n      <td>yes</td>\n      <td>yes</td>\n      <td>yes</td>\n      <td>yes</td>\n      <td>no</td>\n      <td>4</td>\n      <td>3</td>\n      <td>3</td>\n      <td>1</td>\n      <td>3</td>\n      <td>5</td>\n      <td>2</td>\n      <td>14</td>\n      <td>14</td>\n      <td>14</td>\n      <td>1</td>\n      <td>1</td>\n      <td>0</td>\n      <td>1</td>\n      <td>0</td>\n      <td>1</td>\n      <td>1</td>\n      <td>1</td>\n      <td>1</td>\n      <td>1</td>\n      <td>1</td>\n      <td>0</td>\n    </tr>\n    <tr>\n      <th>13</th>\n      <td>GP</td>\n      <td>M</td>\n      <td>15</td>\n      <td>U</td>\n      <td>GT3</td>\n      <td>T</td>\n      <td>4</td>\n      <td>3</td>\n      <td>teacher</td>\n      <td>other</td>\n      <td>course</td>\n      <td>mother</td>\n      <td>2</td>\n      <td>2</td>\n      <td>0</td>\n      <td>no</td>\n      <td>yes</td>\n      <td>yes</td>\n      <td>no</td>\n      <td>yes</td>\n      <td>yes</td>\n      <td>yes</td>\n      <td>no</td>\n      <td>5</td>\n      <td>4</td>\n      <td>3</td>\n      <td>1</td>\n      <td>2</td>\n      <td>3</td>\n      <td>2</td>\n      <td>10</td>\n      <td>10</td>\n      <td>11</td>\n      <td>1</td>\n      <td>1</td>\n      <td>1</td>\n      <td>1</td>\n      <td>0</td>\n      <td>1</td>\n      <td>1</td>\n      <td>0</td>\n      <td>1</td>\n      <td>1</td>\n      <td>1</td>\n      <td>0</td>\n    </tr>\n    <tr>\n      <th>14</th>\n      <td>GP</td>\n      <td>M</td>\n      <td>15</td>\n      <td>U</td>\n      <td>GT3</td>\n      <td>A</td>\n      <td>2</td>\n      <td>2</td>\n      <td>other</td>\n      <td>other</td>\n      <td>home</td>\n      <td>other</td>\n      <td>1</td>\n      <td>3</td>\n      <td>0</td>\n      <td>no</td>\n      <td>yes</td>\n      <td>no</td>\n      <td>no</td>\n      <td>yes</td>\n      <td>yes</td>\n      <td>yes</td>\n      <td>yes</td>\n      <td>4</td>\n      <td>5</td>\n      <td>2</td>\n      <td>1</td>\n      <td>1</td>\n      <td>3</td>\n      <td>0</td>\n      <td>14</td>\n      <td>16</td>\n      <td>16</td>\n      <td>1</td>\n      <td>1</td>\n      <td>1</td>\n      <td>0</td>\n      <td>0</td>\n      <td>1</td>\n      <td>0</td>\n      <td>0</td>\n      <td>1</td>\n      <td>1</td>\n      <td>1</td>\n      <td>1</td>\n    </tr>\n    <tr>\n      <th>15</th>\n      <td>GP</td>\n      <td>F</td>\n      <td>16</td>\n      <td>U</td>\n      <td>GT3</td>\n      <td>T</td>\n      <td>4</td>\n      <td>4</td>\n      <td>health</td>\n      <td>other</td>\n      <td>home</td>\n      <td>mother</td>\n      <td>1</td>\n      <td>1</td>\n      <td>0</td>\n      <td>no</td>\n      <td>yes</td>\n      <td>no</td>\n      <td>no</td>\n      <td>yes</td>\n      <td>yes</td>\n      <td>yes</td>\n      <td>no</td>\n      <td>4</td>\n      <td>4</td>\n      <td>4</td>\n      <td>1</td>\n      <td>2</td>\n      <td>2</td>\n      <td>4</td>\n      <td>14</td>\n      <td>14</td>\n      <td>14</td>\n      <td>0</td>\n      <td>1</td>\n      <td>1</td>\n      <td>1</td>\n      <td>0</td>\n      <td>1</td>\n      <td>0</td>\n      <td>0</td>\n      <td>1</td>\n      <td>1</td>\n      <td>1</td>\n      <td>0</td>\n    </tr>\n    <tr>\n      <th>16</th>\n      <td>GP</td>\n      <td>F</td>\n      <td>16</td>\n      <td>U</td>\n      <td>GT3</td>\n      <td>T</td>\n      <td>4</td>\n      <td>4</td>\n      <td>services</td>\n      <td>services</td>\n      <td>reputation</td>\n      <td>mother</td>\n      <td>1</td>\n      <td>3</td>\n      <td>0</td>\n      <td>no</td>\n      <td>yes</td>\n      <td>yes</td>\n      <td>yes</td>\n      <td>yes</td>\n      <td>yes</td>\n      <td>yes</td>\n      <td>no</td>\n      <td>3</td>\n      <td>2</td>\n      <td>3</td>\n      <td>1</td>\n      <td>2</td>\n      <td>2</td>\n      <td>6</td>\n      <td>13</td>\n      <td>14</td>\n      <td>14</td>\n      <td>0</td>\n      <td>1</td>\n      <td>1</td>\n      <td>1</td>\n      <td>0</td>\n      <td>1</td>\n      <td>1</td>\n      <td>1</td>\n      <td>1</td>\n      <td>1</td>\n      <td>1</td>\n      <td>0</td>\n    </tr>\n    <tr>\n      <th>17</th>\n      <td>GP</td>\n      <td>F</td>\n      <td>16</td>\n      <td>U</td>\n      <td>GT3</td>\n      <td>T</td>\n      <td>3</td>\n      <td>3</td>\n      <td>other</td>\n      <td>other</td>\n      <td>reputation</td>\n      <td>mother</td>\n      <td>3</td>\n      <td>2</td>\n      <td>0</td>\n      <td>yes</td>\n      <td>yes</td>\n      <td>no</td>\n      <td>yes</td>\n      <td>yes</td>\n      <td>yes</td>\n      <td>no</td>\n      <td>no</td>\n      <td>5</td>\n      <td>3</td>\n      <td>2</td>\n      <td>1</td>\n      <td>1</td>\n      <td>4</td>\n      <td>4</td>\n      <td>8</td>\n      <td>10</td>\n      <td>10</td>\n      <td>0</td>\n      <td>1</td>\n      <td>1</td>\n      <td>1</td>\n      <td>1</td>\n      <td>1</td>\n      <td>0</td>\n      <td>1</td>\n      <td>1</td>\n      <td>1</td>\n      <td>0</td>\n      <td>0</td>\n    </tr>\n    <tr>\n      <th>18</th>\n      <td>GP</td>\n      <td>M</td>\n      <td>17</td>\n      <td>U</td>\n      <td>GT3</td>\n      <td>T</td>\n      <td>3</td>\n      <td>2</td>\n      <td>services</td>\n      <td>services</td>\n      <td>course</td>\n      <td>mother</td>\n      <td>1</td>\n      <td>1</td>\n      <td>3</td>\n      <td>no</td>\n      <td>yes</td>\n      <td>no</td>\n      <td>yes</td>\n      <td>yes</td>\n      <td>yes</td>\n      <td>yes</td>\n      <td>no</td>\n      <td>5</td>\n      <td>5</td>\n      <td>5</td>\n      <td>2</td>\n      <td>4</td>\n      <td>5</td>\n      <td>16</td>\n      <td>6</td>\n      <td>5</td>\n      <td>5</td>\n      <td>1</td>\n      <td>1</td>\n      <td>1</td>\n      <td>1</td>\n      <td>0</td>\n      <td>1</td>\n      <td>0</td>\n      <td>1</td>\n      <td>1</td>\n      <td>1</td>\n      <td>1</td>\n      <td>0</td>\n    </tr>\n    <tr>\n      <th>19</th>\n      <td>GP</td>\n      <td>M</td>\n      <td>16</td>\n      <td>U</td>\n      <td>LE3</td>\n      <td>T</td>\n      <td>4</td>\n      <td>3</td>\n      <td>health</td>\n      <td>other</td>\n      <td>home</td>\n      <td>father</td>\n      <td>1</td>\n      <td>1</td>\n      <td>0</td>\n      <td>no</td>\n      <td>no</td>\n      <td>yes</td>\n      <td>yes</td>\n      <td>yes</td>\n      <td>yes</td>\n      <td>yes</td>\n      <td>no</td>\n      <td>3</td>\n      <td>1</td>\n      <td>3</td>\n      <td>1</td>\n      <td>3</td>\n      <td>5</td>\n      <td>4</td>\n      <td>8</td>\n      <td>10</td>\n      <td>10</td>\n      <td>1</td>\n      <td>1</td>\n      <td>0</td>\n      <td>1</td>\n      <td>0</td>\n      <td>0</td>\n      <td>1</td>\n      <td>1</td>\n      <td>1</td>\n      <td>1</td>\n      <td>1</td>\n      <td>0</td>\n    </tr>\n  </tbody>\n</table>\n</div>"
     },
     "metadata": {},
     "execution_count": 5
    }
   ],
   "source": [
    "data[\"sex_bin\"] = data[\"sex\"].apply(lambda x: 1 if x == \"M\" else 0)\n",
    "data[\"address_bin\"] = data[\"address\"].apply(lambda x: 1 if x == \"U\" else 0)\n",
    "data[\"famsize_bin\"] = data[\"famsize\"].apply(lambda x: 1 if x == \"GT3\" else 0)\n",
    "data[\"Pstatus_bin\"] = data[\"Pstatus\"].apply(lambda x: 1 if x == \"T\" else 0)\n",
    "for column in [\"schoolsup\", \"famsup\", \"paid\", \"activities\", \"nursery\", \"higher\", \"internet\", \"romantic\"]:\n",
    "    data[column+\"_bin\"] = data[column].apply(lambda x: 1 if x == \"yes\" else 0)\n",
    "data.head(20)"
   ]
  },
  {
   "cell_type": "markdown",
   "metadata": {},
   "source": [
    "## 3 - Exploratory Data Analysis"
   ]
  },
  {
   "cell_type": "markdown",
   "metadata": {},
   "source": [
    "### 3.1 - Univariate analysis"
   ]
  },
  {
   "cell_type": "code",
   "execution_count": 6,
   "metadata": {
    "colab": {
     "base_uri": "https://localhost:8080/",
     "height": 51
    },
    "colab_type": "code",
    "id": "RGgn3RfhSSlD",
    "outputId": "7d7f95f9-fabb-4339-ab1f-a8868917d5a5"
   },
   "outputs": [
    {
     "output_type": "stream",
     "name": "stdout",
     "text": "# of rows is 395\n# of columns is 45\n"
    }
   ],
   "source": [
    "n_rows, n_cols = data.shape\n",
    "print(f\"# of rows is {n_rows}\")\n",
    "print(f\"# of columns is {n_cols}\")"
   ]
  },
  {
   "cell_type": "code",
   "execution_count": 7,
   "metadata": {
    "colab": {
     "base_uri": "https://localhost:8080/",
     "height": 34
    },
    "colab_type": "code",
    "id": "Fl0SGUEIU71R",
    "outputId": "74b4057b-5e2a-411c-d889-e3dd6646a2f3"
   },
   "outputs": [
    {
     "output_type": "stream",
     "name": "stdout",
     "text": "Passing rate : 0.6708860759493671\n"
    }
   ],
   "source": [
    "num_passed = len(data[data[\"G3\"]>=10])\n",
    "total = len(data)\n",
    "print(f\"Passing rate : {num_passed / total}\")"
   ]
  },
  {
   "cell_type": "code",
   "execution_count": 8,
   "metadata": {
    "colab": {
     "base_uri": "https://localhost:8080/",
     "height": 300
    },
    "colab_type": "code",
    "id": "EaRJesY7I_ST",
    "outputId": "cf47b0b8-ee92-4b5a-9be3-2a5d1603a87e"
   },
   "outputs": [
    {
     "output_type": "execute_result",
     "data": {
      "text/plain": "               G1          G2          G3\ncount  395.000000  395.000000  395.000000\nmean    10.908861   10.713924   10.415190\nstd      3.319195    3.761505    4.581443\nmin      3.000000    0.000000    0.000000\n25%      8.000000    9.000000    8.000000\n50%     11.000000   11.000000   11.000000\n75%     13.000000   13.000000   14.000000\nmax     19.000000   19.000000   20.000000",
      "text/html": "<div>\n<style scoped>\n    .dataframe tbody tr th:only-of-type {\n        vertical-align: middle;\n    }\n\n    .dataframe tbody tr th {\n        vertical-align: top;\n    }\n\n    .dataframe thead th {\n        text-align: right;\n    }\n</style>\n<table border=\"1\" class=\"dataframe\">\n  <thead>\n    <tr style=\"text-align: right;\">\n      <th></th>\n      <th>G1</th>\n      <th>G2</th>\n      <th>G3</th>\n    </tr>\n  </thead>\n  <tbody>\n    <tr>\n      <th>count</th>\n      <td>395.000000</td>\n      <td>395.000000</td>\n      <td>395.000000</td>\n    </tr>\n    <tr>\n      <th>mean</th>\n      <td>10.908861</td>\n      <td>10.713924</td>\n      <td>10.415190</td>\n    </tr>\n    <tr>\n      <th>std</th>\n      <td>3.319195</td>\n      <td>3.761505</td>\n      <td>4.581443</td>\n    </tr>\n    <tr>\n      <th>min</th>\n      <td>3.000000</td>\n      <td>0.000000</td>\n      <td>0.000000</td>\n    </tr>\n    <tr>\n      <th>25%</th>\n      <td>8.000000</td>\n      <td>9.000000</td>\n      <td>8.000000</td>\n    </tr>\n    <tr>\n      <th>50%</th>\n      <td>11.000000</td>\n      <td>11.000000</td>\n      <td>11.000000</td>\n    </tr>\n    <tr>\n      <th>75%</th>\n      <td>13.000000</td>\n      <td>13.000000</td>\n      <td>14.000000</td>\n    </tr>\n    <tr>\n      <th>max</th>\n      <td>19.000000</td>\n      <td>19.000000</td>\n      <td>20.000000</td>\n    </tr>\n  </tbody>\n</table>\n</div>"
     },
     "metadata": {},
     "execution_count": 8
    }
   ],
   "source": [
    "data[[\"G1\", \"G2\", \"G3\"]].describe()"
   ]
  },
  {
   "cell_type": "code",
   "execution_count": 9,
   "metadata": {},
   "outputs": [
    {
     "output_type": "display_data",
     "data": {
      "application/vnd.plotly.v1+json": {
       "config": {
        "plotlyServerURL": "https://plot.ly"
       },
       "data": [
        {
         "name": "G1 scores",
         "showlegend": false,
         "type": "box",
         "y": [
          5,
          5,
          7,
          15,
          6,
          15,
          12,
          6,
          16,
          14,
          10,
          10,
          14,
          10,
          14,
          14,
          13,
          8,
          6,
          8,
          13,
          12,
          15,
          13,
          10,
          6,
          12,
          15,
          11,
          10,
          9,
          17,
          17,
          8,
          12,
          8,
          15,
          15,
          12,
          14,
          7,
          12,
          19,
          8,
          10,
          8,
          11,
          19,
          15,
          7,
          12,
          11,
          11,
          8,
          10,
          8,
          14,
          14,
          9,
          15,
          10,
          10,
          8,
          10,
          10,
          16,
          13,
          7,
          8,
          16,
          13,
          10,
          8,
          12,
          11,
          9,
          11,
          11,
          8,
          5,
          10,
          11,
          7,
          15,
          9,
          7,
          8,
          13,
          11,
          8,
          7,
          16,
          7,
          11,
          11,
          7,
          11,
          8,
          11,
          7,
          7,
          16,
          10,
          7,
          16,
          10,
          7,
          16,
          10,
          14,
          18,
          7,
          10,
          18,
          9,
          15,
          11,
          13,
          9,
          14,
          16,
          16,
          13,
          14,
          8,
          13,
          7,
          7,
          7,
          18,
          12,
          8,
          10,
          12,
          9,
          11,
          10,
          4,
          14,
          16,
          7,
          9,
          9,
          14,
          5,
          8,
          6,
          10,
          7,
          8,
          6,
          12,
          10,
          5,
          11,
          11,
          16,
          9,
          17,
          10,
          7,
          5,
          7,
          10,
          5,
          12,
          10,
          14,
          6,
          14,
          6,
          13,
          13,
          8,
          10,
          10,
          13,
          6,
          10,
          10,
          9,
          12,
          16,
          9,
          12,
          12,
          11,
          15,
          8,
          8,
          11,
          8,
          7,
          8,
          13,
          14,
          17,
          9,
          18,
          9,
          16,
          8,
          9,
          7,
          10,
          10,
          7,
          11,
          9,
          7,
          8,
          12,
          12,
          6,
          8,
          14,
          6,
          6,
          7,
          9,
          6,
          6,
          16,
          12,
          13,
          9,
          16,
          12,
          10,
          12,
          13,
          11,
          11,
          14,
          9,
          11,
          14,
          13,
          13,
          7,
          12,
          10,
          6,
          13,
          7,
          18,
          12,
          6,
          3,
          13,
          6,
          7,
          6,
          8,
          8,
          7,
          14,
          11,
          15,
          10,
          17,
          8,
          13,
          10,
          9,
          17,
          9,
          12,
          10,
          6,
          9,
          15,
          11,
          15,
          10,
          12,
          10,
          9,
          9,
          10,
          8,
          11,
          12,
          8,
          10,
          12,
          18,
          13,
          15,
          15,
          12,
          15,
          12,
          18,
          14,
          14,
          10,
          10,
          14,
          16,
          12,
          11,
          15,
          17,
          15,
          14,
          17,
          8,
          15,
          12,
          9,
          14,
          13,
          13,
          15,
          13,
          8,
          9,
          11,
          11,
          13,
          11,
          11,
          12,
          16,
          9,
          14,
          11,
          10,
          14,
          9,
          12,
          7,
          8,
          10,
          16,
          14,
          7,
          16,
          9,
          11,
          10,
          16,
          9,
          11,
          13,
          16,
          10,
          13,
          11,
          8,
          13,
          8,
          8,
          13,
          10,
          12,
          12,
          10,
          18,
          13,
          13,
          11,
          16,
          12,
          10,
          13,
          7,
          11,
          14,
          7,
          14,
          13,
          6,
          19,
          8,
          15,
          8,
          15,
          10,
          15,
          7,
          11,
          6,
          6,
          10,
          6,
          7,
          7,
          6,
          9,
          14,
          10,
          11,
          8
         ]
        },
        {
         "name": "G2 scores",
         "showlegend": false,
         "type": "box",
         "y": [
          6,
          5,
          8,
          14,
          10,
          15,
          12,
          5,
          18,
          15,
          8,
          12,
          14,
          10,
          16,
          14,
          14,
          10,
          5,
          10,
          14,
          15,
          15,
          13,
          9,
          9,
          12,
          16,
          11,
          12,
          11,
          16,
          16,
          10,
          14,
          7,
          16,
          16,
          12,
          13,
          10,
          12,
          18,
          8,
          10,
          8,
          12,
          19,
          15,
          7,
          13,
          13,
          11,
          10,
          13,
          9,
          15,
          15,
          10,
          16,
          11,
          8,
          10,
          9,
          10,
          15,
          13,
          7,
          9,
          16,
          15,
          10,
          6,
          12,
          12,
          9,
          11,
          11,
          8,
          5,
          12,
          10,
          6,
          15,
          10,
          9,
          7,
          14,
          10,
          6,
          7,
          17,
          6,
          10,
          13,
          10,
          15,
          9,
          14,
          9,
          7,
          17,
          13,
          6,
          18,
          11,
          8,
          18,
          13,
          15,
          19,
          10,
          13,
          19,
          9,
          15,
          13,
          14,
          7,
          13,
          15,
          14,
          13,
          11,
          7,
          13,
          10,
          8,
          4,
          18,
          0,
          0,
          13,
          11,
          0,
          0,
          0,
          0,
          12,
          16,
          9,
          9,
          11,
          14,
          0,
          11,
          7,
          11,
          6,
          9,
          5,
          13,
          10,
          0,
          11,
          8,
          12,
          8,
          15,
          12,
          6,
          9,
          0,
          10,
          8,
          11,
          10,
          15,
          7,
          14,
          5,
          15,
          11,
          7,
          11,
          9,
          13,
          5,
          8,
          10,
          8,
          13,
          17,
          9,
          13,
          12,
          12,
          15,
          7,
          9,
          12,
          8,
          8,
          9,
          14,
          15,
          15,
          9,
          18,
          9,
          16,
          10,
          9,
          6,
          10,
          9,
          7,
          12,
          9,
          7,
          8,
          12,
          13,
          7,
          10,
          15,
          6,
          6,
          7,
          10,
          6,
          5,
          16,
          13,
          13,
          8,
          15,
          11,
          8,
          10,
          13,
          11,
          9,
          13,
          7,
          9,
          13,
          12,
          11,
          7,
          12,
          11,
          0,
          12,
          0,
          18,
          12,
          8,
          5,
          15,
          8,
          10,
          9,
          9,
          12,
          9,
          12,
          11,
          14,
          9,
          18,
          8,
          12,
          9,
          10,
          17,
          9,
          10,
          9,
          0,
          9,
          14,
          11,
          14,
          10,
          12,
          9,
          9,
          8,
          11,
          8,
          9,
          12,
          9,
          9,
          10,
          18,
          12,
          14,
          13,
          11,
          15,
          12,
          18,
          13,
          12,
          9,
          8,
          13,
          15,
          10,
          11,
          12,
          17,
          14,
          12,
          18,
          9,
          12,
          10,
          9,
          12,
          11,
          10,
          13,
          11,
          8,
          10,
          11,
          11,
          13,
          9,
          11,
          14,
          15,
          12,
          15,
          10,
          9,
          14,
          8,
          14,
          0,
          8,
          9,
          15,
          13,
          8,
          15,
          10,
          12,
          10,
          15,
          8,
          10,
          13,
          15,
          10,
          15,
          13,
          7,
          13,
          7,
          8,
          11,
          9,
          13,
          12,
          10,
          16,
          13,
          12,
          11,
          15,
          11,
          10,
          13,
          6,
          10,
          12,
          7,
          12,
          11,
          5,
          18,
          8,
          14,
          9,
          15,
          10,
          14,
          6,
          11,
          5,
          5,
          9,
          5,
          5,
          9,
          5,
          9,
          16,
          8,
          12,
          9
         ]
        },
        {
         "name": "G3 scores",
         "showlegend": false,
         "type": "box",
         "y": [
          6,
          6,
          10,
          15,
          10,
          15,
          11,
          6,
          19,
          15,
          9,
          12,
          14,
          11,
          16,
          14,
          14,
          10,
          5,
          10,
          15,
          15,
          16,
          12,
          8,
          8,
          11,
          15,
          11,
          11,
          12,
          17,
          16,
          12,
          15,
          6,
          18,
          15,
          11,
          13,
          11,
          12,
          18,
          11,
          9,
          6,
          11,
          20,
          14,
          7,
          13,
          13,
          10,
          11,
          13,
          10,
          15,
          15,
          9,
          16,
          11,
          11,
          9,
          9,
          10,
          15,
          12,
          6,
          8,
          16,
          15,
          10,
          5,
          14,
          11,
          10,
          10,
          11,
          10,
          5,
          12,
          11,
          6,
          15,
          10,
          8,
          6,
          14,
          10,
          7,
          8,
          18,
          6,
          10,
          14,
          10,
          15,
          10,
          14,
          8,
          5,
          17,
          14,
          6,
          18,
          11,
          8,
          18,
          13,
          16,
          19,
          10,
          13,
          19,
          9,
          16,
          14,
          13,
          8,
          13,
          15,
          15,
          13,
          13,
          8,
          12,
          11,
          9,
          0,
          18,
          0,
          0,
          12,
          11,
          0,
          0,
          0,
          0,
          12,
          15,
          0,
          9,
          11,
          13,
          0,
          11,
          0,
          11,
          0,
          10,
          0,
          14,
          10,
          0,
          12,
          8,
          13,
          10,
          15,
          12,
          0,
          7,
          0,
          10,
          7,
          12,
          10,
          16,
          0,
          14,
          0,
          16,
          10,
          0,
          9,
          9,
          11,
          6,
          9,
          11,
          8,
          12,
          17,
          8,
          12,
          11,
          11,
          15,
          9,
          10,
          13,
          9,
          8,
          10,
          14,
          15,
          16,
          10,
          18,
          10,
          16,
          10,
          10,
          6,
          11,
          9,
          7,
          13,
          10,
          7,
          8,
          13,
          14,
          8,
          10,
          15,
          4,
          8,
          8,
          10,
          6,
          0,
          17,
          13,
          14,
          7,
          15,
          12,
          9,
          12,
          14,
          11,
          9,
          13,
          6,
          10,
          13,
          12,
          11,
          0,
          12,
          12,
          0,
          12,
          0,
          18,
          13,
          8,
          5,
          15,
          8,
          10,
          8,
          8,
          12,
          8,
          13,
          11,
          14,
          0,
          18,
          8,
          12,
          9,
          0,
          17,
          10,
          11,
          10,
          0,
          9,
          14,
          11,
          14,
          10,
          12,
          9,
          9,
          8,
          10,
          8,
          10,
          12,
          10,
          11,
          11,
          19,
          12,
          14,
          15,
          11,
          15,
          13,
          18,
          14,
          11,
          0,
          8,
          14,
          16,
          11,
          10,
          14,
          18,
          13,
          12,
          18,
          8,
          12,
          10,
          0,
          13,
          11,
          11,
          13,
          11,
          0,
          9,
          10,
          11,
          13,
          9,
          11,
          15,
          15,
          11,
          16,
          10,
          9,
          14,
          8,
          14,
          0,
          0,
          0,
          15,
          13,
          0,
          17,
          10,
          11,
          0,
          15,
          0,
          10,
          14,
          16,
          9,
          15,
          13,
          8,
          13,
          8,
          8,
          11,
          9,
          13,
          11,
          10,
          16,
          13,
          12,
          10,
          15,
          12,
          10,
          13,
          0,
          10,
          11,
          9,
          12,
          11,
          5,
          19,
          10,
          15,
          10,
          15,
          10,
          14,
          7,
          10,
          0,
          5,
          10,
          6,
          0,
          8,
          0,
          9,
          16,
          7,
          10,
          9
         ]
        }
       ],
       "layout": {
        "template": {
         "data": {
          "bar": [
           {
            "error_x": {
             "color": "#2a3f5f"
            },
            "error_y": {
             "color": "#2a3f5f"
            },
            "marker": {
             "line": {
              "color": "#E5ECF6",
              "width": 0.5
             }
            },
            "type": "bar"
           }
          ],
          "barpolar": [
           {
            "marker": {
             "line": {
              "color": "#E5ECF6",
              "width": 0.5
             }
            },
            "type": "barpolar"
           }
          ],
          "carpet": [
           {
            "aaxis": {
             "endlinecolor": "#2a3f5f",
             "gridcolor": "white",
             "linecolor": "white",
             "minorgridcolor": "white",
             "startlinecolor": "#2a3f5f"
            },
            "baxis": {
             "endlinecolor": "#2a3f5f",
             "gridcolor": "white",
             "linecolor": "white",
             "minorgridcolor": "white",
             "startlinecolor": "#2a3f5f"
            },
            "type": "carpet"
           }
          ],
          "choropleth": [
           {
            "colorbar": {
             "outlinewidth": 0,
             "ticks": ""
            },
            "type": "choropleth"
           }
          ],
          "contour": [
           {
            "colorbar": {
             "outlinewidth": 0,
             "ticks": ""
            },
            "colorscale": [
             [
              0,
              "#0d0887"
             ],
             [
              0.1111111111111111,
              "#46039f"
             ],
             [
              0.2222222222222222,
              "#7201a8"
             ],
             [
              0.3333333333333333,
              "#9c179e"
             ],
             [
              0.4444444444444444,
              "#bd3786"
             ],
             [
              0.5555555555555556,
              "#d8576b"
             ],
             [
              0.6666666666666666,
              "#ed7953"
             ],
             [
              0.7777777777777778,
              "#fb9f3a"
             ],
             [
              0.8888888888888888,
              "#fdca26"
             ],
             [
              1,
              "#f0f921"
             ]
            ],
            "type": "contour"
           }
          ],
          "contourcarpet": [
           {
            "colorbar": {
             "outlinewidth": 0,
             "ticks": ""
            },
            "type": "contourcarpet"
           }
          ],
          "heatmap": [
           {
            "colorbar": {
             "outlinewidth": 0,
             "ticks": ""
            },
            "colorscale": [
             [
              0,
              "#0d0887"
             ],
             [
              0.1111111111111111,
              "#46039f"
             ],
             [
              0.2222222222222222,
              "#7201a8"
             ],
             [
              0.3333333333333333,
              "#9c179e"
             ],
             [
              0.4444444444444444,
              "#bd3786"
             ],
             [
              0.5555555555555556,
              "#d8576b"
             ],
             [
              0.6666666666666666,
              "#ed7953"
             ],
             [
              0.7777777777777778,
              "#fb9f3a"
             ],
             [
              0.8888888888888888,
              "#fdca26"
             ],
             [
              1,
              "#f0f921"
             ]
            ],
            "type": "heatmap"
           }
          ],
          "heatmapgl": [
           {
            "colorbar": {
             "outlinewidth": 0,
             "ticks": ""
            },
            "colorscale": [
             [
              0,
              "#0d0887"
             ],
             [
              0.1111111111111111,
              "#46039f"
             ],
             [
              0.2222222222222222,
              "#7201a8"
             ],
             [
              0.3333333333333333,
              "#9c179e"
             ],
             [
              0.4444444444444444,
              "#bd3786"
             ],
             [
              0.5555555555555556,
              "#d8576b"
             ],
             [
              0.6666666666666666,
              "#ed7953"
             ],
             [
              0.7777777777777778,
              "#fb9f3a"
             ],
             [
              0.8888888888888888,
              "#fdca26"
             ],
             [
              1,
              "#f0f921"
             ]
            ],
            "type": "heatmapgl"
           }
          ],
          "histogram": [
           {
            "marker": {
             "colorbar": {
              "outlinewidth": 0,
              "ticks": ""
             }
            },
            "type": "histogram"
           }
          ],
          "histogram2d": [
           {
            "colorbar": {
             "outlinewidth": 0,
             "ticks": ""
            },
            "colorscale": [
             [
              0,
              "#0d0887"
             ],
             [
              0.1111111111111111,
              "#46039f"
             ],
             [
              0.2222222222222222,
              "#7201a8"
             ],
             [
              0.3333333333333333,
              "#9c179e"
             ],
             [
              0.4444444444444444,
              "#bd3786"
             ],
             [
              0.5555555555555556,
              "#d8576b"
             ],
             [
              0.6666666666666666,
              "#ed7953"
             ],
             [
              0.7777777777777778,
              "#fb9f3a"
             ],
             [
              0.8888888888888888,
              "#fdca26"
             ],
             [
              1,
              "#f0f921"
             ]
            ],
            "type": "histogram2d"
           }
          ],
          "histogram2dcontour": [
           {
            "colorbar": {
             "outlinewidth": 0,
             "ticks": ""
            },
            "colorscale": [
             [
              0,
              "#0d0887"
             ],
             [
              0.1111111111111111,
              "#46039f"
             ],
             [
              0.2222222222222222,
              "#7201a8"
             ],
             [
              0.3333333333333333,
              "#9c179e"
             ],
             [
              0.4444444444444444,
              "#bd3786"
             ],
             [
              0.5555555555555556,
              "#d8576b"
             ],
             [
              0.6666666666666666,
              "#ed7953"
             ],
             [
              0.7777777777777778,
              "#fb9f3a"
             ],
             [
              0.8888888888888888,
              "#fdca26"
             ],
             [
              1,
              "#f0f921"
             ]
            ],
            "type": "histogram2dcontour"
           }
          ],
          "mesh3d": [
           {
            "colorbar": {
             "outlinewidth": 0,
             "ticks": ""
            },
            "type": "mesh3d"
           }
          ],
          "parcoords": [
           {
            "line": {
             "colorbar": {
              "outlinewidth": 0,
              "ticks": ""
             }
            },
            "type": "parcoords"
           }
          ],
          "pie": [
           {
            "automargin": true,
            "type": "pie"
           }
          ],
          "scatter": [
           {
            "marker": {
             "colorbar": {
              "outlinewidth": 0,
              "ticks": ""
             }
            },
            "type": "scatter"
           }
          ],
          "scatter3d": [
           {
            "line": {
             "colorbar": {
              "outlinewidth": 0,
              "ticks": ""
             }
            },
            "marker": {
             "colorbar": {
              "outlinewidth": 0,
              "ticks": ""
             }
            },
            "type": "scatter3d"
           }
          ],
          "scattercarpet": [
           {
            "marker": {
             "colorbar": {
              "outlinewidth": 0,
              "ticks": ""
             }
            },
            "type": "scattercarpet"
           }
          ],
          "scattergeo": [
           {
            "marker": {
             "colorbar": {
              "outlinewidth": 0,
              "ticks": ""
             }
            },
            "type": "scattergeo"
           }
          ],
          "scattergl": [
           {
            "marker": {
             "colorbar": {
              "outlinewidth": 0,
              "ticks": ""
             }
            },
            "type": "scattergl"
           }
          ],
          "scattermapbox": [
           {
            "marker": {
             "colorbar": {
              "outlinewidth": 0,
              "ticks": ""
             }
            },
            "type": "scattermapbox"
           }
          ],
          "scatterpolar": [
           {
            "marker": {
             "colorbar": {
              "outlinewidth": 0,
              "ticks": ""
             }
            },
            "type": "scatterpolar"
           }
          ],
          "scatterpolargl": [
           {
            "marker": {
             "colorbar": {
              "outlinewidth": 0,
              "ticks": ""
             }
            },
            "type": "scatterpolargl"
           }
          ],
          "scatterternary": [
           {
            "marker": {
             "colorbar": {
              "outlinewidth": 0,
              "ticks": ""
             }
            },
            "type": "scatterternary"
           }
          ],
          "surface": [
           {
            "colorbar": {
             "outlinewidth": 0,
             "ticks": ""
            },
            "colorscale": [
             [
              0,
              "#0d0887"
             ],
             [
              0.1111111111111111,
              "#46039f"
             ],
             [
              0.2222222222222222,
              "#7201a8"
             ],
             [
              0.3333333333333333,
              "#9c179e"
             ],
             [
              0.4444444444444444,
              "#bd3786"
             ],
             [
              0.5555555555555556,
              "#d8576b"
             ],
             [
              0.6666666666666666,
              "#ed7953"
             ],
             [
              0.7777777777777778,
              "#fb9f3a"
             ],
             [
              0.8888888888888888,
              "#fdca26"
             ],
             [
              1,
              "#f0f921"
             ]
            ],
            "type": "surface"
           }
          ],
          "table": [
           {
            "cells": {
             "fill": {
              "color": "#EBF0F8"
             },
             "line": {
              "color": "white"
             }
            },
            "header": {
             "fill": {
              "color": "#C8D4E3"
             },
             "line": {
              "color": "white"
             }
            },
            "type": "table"
           }
          ]
         },
         "layout": {
          "annotationdefaults": {
           "arrowcolor": "#2a3f5f",
           "arrowhead": 0,
           "arrowwidth": 1
          },
          "coloraxis": {
           "colorbar": {
            "outlinewidth": 0,
            "ticks": ""
           }
          },
          "colorscale": {
           "diverging": [
            [
             0,
             "#8e0152"
            ],
            [
             0.1,
             "#c51b7d"
            ],
            [
             0.2,
             "#de77ae"
            ],
            [
             0.3,
             "#f1b6da"
            ],
            [
             0.4,
             "#fde0ef"
            ],
            [
             0.5,
             "#f7f7f7"
            ],
            [
             0.6,
             "#e6f5d0"
            ],
            [
             0.7,
             "#b8e186"
            ],
            [
             0.8,
             "#7fbc41"
            ],
            [
             0.9,
             "#4d9221"
            ],
            [
             1,
             "#276419"
            ]
           ],
           "sequential": [
            [
             0,
             "#0d0887"
            ],
            [
             0.1111111111111111,
             "#46039f"
            ],
            [
             0.2222222222222222,
             "#7201a8"
            ],
            [
             0.3333333333333333,
             "#9c179e"
            ],
            [
             0.4444444444444444,
             "#bd3786"
            ],
            [
             0.5555555555555556,
             "#d8576b"
            ],
            [
             0.6666666666666666,
             "#ed7953"
            ],
            [
             0.7777777777777778,
             "#fb9f3a"
            ],
            [
             0.8888888888888888,
             "#fdca26"
            ],
            [
             1,
             "#f0f921"
            ]
           ],
           "sequentialminus": [
            [
             0,
             "#0d0887"
            ],
            [
             0.1111111111111111,
             "#46039f"
            ],
            [
             0.2222222222222222,
             "#7201a8"
            ],
            [
             0.3333333333333333,
             "#9c179e"
            ],
            [
             0.4444444444444444,
             "#bd3786"
            ],
            [
             0.5555555555555556,
             "#d8576b"
            ],
            [
             0.6666666666666666,
             "#ed7953"
            ],
            [
             0.7777777777777778,
             "#fb9f3a"
            ],
            [
             0.8888888888888888,
             "#fdca26"
            ],
            [
             1,
             "#f0f921"
            ]
           ]
          },
          "colorway": [
           "#636efa",
           "#EF553B",
           "#00cc96",
           "#ab63fa",
           "#FFA15A",
           "#19d3f3",
           "#FF6692",
           "#B6E880",
           "#FF97FF",
           "#FECB52"
          ],
          "font": {
           "color": "#2a3f5f"
          },
          "geo": {
           "bgcolor": "white",
           "lakecolor": "white",
           "landcolor": "#E5ECF6",
           "showlakes": true,
           "showland": true,
           "subunitcolor": "white"
          },
          "hoverlabel": {
           "align": "left"
          },
          "hovermode": "closest",
          "mapbox": {
           "style": "light"
          },
          "paper_bgcolor": "white",
          "plot_bgcolor": "#E5ECF6",
          "polar": {
           "angularaxis": {
            "gridcolor": "white",
            "linecolor": "white",
            "ticks": ""
           },
           "bgcolor": "#E5ECF6",
           "radialaxis": {
            "gridcolor": "white",
            "linecolor": "white",
            "ticks": ""
           }
          },
          "scene": {
           "xaxis": {
            "backgroundcolor": "#E5ECF6",
            "gridcolor": "white",
            "gridwidth": 2,
            "linecolor": "white",
            "showbackground": true,
            "ticks": "",
            "zerolinecolor": "white"
           },
           "yaxis": {
            "backgroundcolor": "#E5ECF6",
            "gridcolor": "white",
            "gridwidth": 2,
            "linecolor": "white",
            "showbackground": true,
            "ticks": "",
            "zerolinecolor": "white"
           },
           "zaxis": {
            "backgroundcolor": "#E5ECF6",
            "gridcolor": "white",
            "gridwidth": 2,
            "linecolor": "white",
            "showbackground": true,
            "ticks": "",
            "zerolinecolor": "white"
           }
          },
          "shapedefaults": {
           "line": {
            "color": "#2a3f5f"
           }
          },
          "ternary": {
           "aaxis": {
            "gridcolor": "white",
            "linecolor": "white",
            "ticks": ""
           },
           "baxis": {
            "gridcolor": "white",
            "linecolor": "white",
            "ticks": ""
           },
           "bgcolor": "#E5ECF6",
           "caxis": {
            "gridcolor": "white",
            "linecolor": "white",
            "ticks": ""
           }
          },
          "title": {
           "x": 0.05
          },
          "xaxis": {
           "automargin": true,
           "gridcolor": "white",
           "linecolor": "white",
           "ticks": "",
           "title": {
            "standoff": 15
           },
           "zerolinecolor": "white",
           "zerolinewidth": 2
          },
          "yaxis": {
           "automargin": true,
           "gridcolor": "white",
           "linecolor": "white",
           "ticks": "",
           "title": {
            "standoff": 15
           },
           "zerolinecolor": "white",
           "zerolinewidth": 2
          }
         }
        }
       }
      }
     },
     "metadata": {}
    }
   ],
   "source": [
    "fig = go.Figure()\n",
    "\n",
    "for G in [\"G1\", \"G2\", \"G3\"]:\n",
    "    fig.add_trace(go.Box(y=data[G], name=G + \" scores\", showlegend=False))\n",
    "\n",
    "fig.show()"
   ]
  },
  {
   "cell_type": "markdown",
   "metadata": {},
   "source": [
    "We will begin exploring the dataset, filtering out features with less relevance and honing in on the important ones.\n",
    "\n",
    "We first investigate the distribution of each variable using a histogram, and display them as multiple subplots."
   ]
  },
  {
   "cell_type": "code",
   "execution_count": 10,
   "metadata": {},
   "outputs": [
    {
     "output_type": "display_data",
     "data": {
      "application/vnd.plotly.v1+json": {
       "config": {
        "plotlyServerURL": "https://plot.ly"
       },
       "data": [
        {
         "marker": {
          "line": {
           "color": "rgb(8,48,107)",
           "width": 1.5
          }
         },
         "opacity": 0.6,
         "showlegend": false,
         "type": "bar",
         "x": [
          "GP",
          "MS"
         ],
         "xaxis": "x",
         "y": [
          349,
          46
         ],
         "yaxis": "y"
        },
        {
         "marker": {
          "line": {
           "color": "rgb(8,48,107)",
           "width": 1.5
          }
         },
         "opacity": 0.6,
         "showlegend": false,
         "type": "bar",
         "x": [
          "F",
          "M"
         ],
         "xaxis": "x2",
         "y": [
          208,
          187
         ],
         "yaxis": "y2"
        },
        {
         "marker": {
          "line": {
           "color": "rgb(8,48,107)",
           "width": 1.5
          }
         },
         "opacity": 0.6,
         "showlegend": false,
         "type": "bar",
         "x": [
          16,
          17,
          18,
          15,
          19,
          20,
          22,
          21
         ],
         "xaxis": "x3",
         "y": [
          104,
          98,
          82,
          82,
          24,
          3,
          1,
          1
         ],
         "yaxis": "y3"
        },
        {
         "marker": {
          "line": {
           "color": "rgb(8,48,107)",
           "width": 1.5
          }
         },
         "opacity": 0.6,
         "showlegend": false,
         "type": "bar",
         "x": [
          "U",
          "R"
         ],
         "xaxis": "x4",
         "y": [
          307,
          88
         ],
         "yaxis": "y4"
        },
        {
         "marker": {
          "line": {
           "color": "rgb(8,48,107)",
           "width": 1.5
          }
         },
         "opacity": 0.6,
         "showlegend": false,
         "type": "bar",
         "x": [
          "GT3",
          "LE3"
         ],
         "xaxis": "x5",
         "y": [
          281,
          114
         ],
         "yaxis": "y5"
        },
        {
         "marker": {
          "line": {
           "color": "rgb(8,48,107)",
           "width": 1.5
          }
         },
         "opacity": 0.6,
         "showlegend": false,
         "type": "bar",
         "x": [
          "T",
          "A"
         ],
         "xaxis": "x6",
         "y": [
          354,
          41
         ],
         "yaxis": "y6"
        },
        {
         "marker": {
          "line": {
           "color": "rgb(8,48,107)",
           "width": 1.5
          }
         },
         "opacity": 0.6,
         "showlegend": false,
         "type": "bar",
         "x": [
          4,
          2,
          3,
          1,
          0
         ],
         "xaxis": "x7",
         "y": [
          131,
          103,
          99,
          59,
          3
         ],
         "yaxis": "y7"
        },
        {
         "marker": {
          "line": {
           "color": "rgb(8,48,107)",
           "width": 1.5
          }
         },
         "opacity": 0.6,
         "showlegend": false,
         "type": "bar",
         "x": [
          2,
          3,
          4,
          1,
          0
         ],
         "xaxis": "x8",
         "y": [
          115,
          100,
          96,
          82,
          2
         ],
         "yaxis": "y8"
        },
        {
         "marker": {
          "line": {
           "color": "rgb(8,48,107)",
           "width": 1.5
          }
         },
         "opacity": 0.6,
         "showlegend": false,
         "type": "bar",
         "x": [
          "other",
          "services",
          "at_home",
          "teacher",
          "health"
         ],
         "xaxis": "x9",
         "y": [
          141,
          103,
          59,
          58,
          34
         ],
         "yaxis": "y9"
        },
        {
         "marker": {
          "line": {
           "color": "rgb(8,48,107)",
           "width": 1.5
          }
         },
         "opacity": 0.6,
         "showlegend": false,
         "type": "bar",
         "x": [
          "other",
          "services",
          "teacher",
          "at_home",
          "health"
         ],
         "xaxis": "x10",
         "y": [
          217,
          111,
          29,
          20,
          18
         ],
         "yaxis": "y10"
        },
        {
         "marker": {
          "line": {
           "color": "rgb(8,48,107)",
           "width": 1.5
          }
         },
         "opacity": 0.6,
         "showlegend": false,
         "type": "bar",
         "x": [
          "course",
          "home",
          "reputation",
          "other"
         ],
         "xaxis": "x11",
         "y": [
          145,
          109,
          105,
          36
         ],
         "yaxis": "y11"
        },
        {
         "marker": {
          "line": {
           "color": "rgb(8,48,107)",
           "width": 1.5
          }
         },
         "opacity": 0.6,
         "showlegend": false,
         "type": "bar",
         "x": [
          "mother",
          "father",
          "other"
         ],
         "xaxis": "x12",
         "y": [
          273,
          90,
          32
         ],
         "yaxis": "y12"
        },
        {
         "marker": {
          "line": {
           "color": "rgb(8,48,107)",
           "width": 1.5
          }
         },
         "opacity": 0.6,
         "showlegend": false,
         "type": "bar",
         "x": [
          1,
          2,
          3,
          4
         ],
         "xaxis": "x13",
         "y": [
          257,
          107,
          23,
          8
         ],
         "yaxis": "y13"
        },
        {
         "marker": {
          "line": {
           "color": "rgb(8,48,107)",
           "width": 1.5
          }
         },
         "opacity": 0.6,
         "showlegend": false,
         "type": "bar",
         "x": [
          2,
          1,
          3,
          4
         ],
         "xaxis": "x14",
         "y": [
          198,
          105,
          65,
          27
         ],
         "yaxis": "y14"
        },
        {
         "marker": {
          "line": {
           "color": "rgb(8,48,107)",
           "width": 1.5
          }
         },
         "opacity": 0.6,
         "showlegend": false,
         "type": "bar",
         "x": [
          0,
          1,
          2,
          3
         ],
         "xaxis": "x15",
         "y": [
          312,
          50,
          17,
          16
         ],
         "yaxis": "y15"
        },
        {
         "marker": {
          "line": {
           "color": "rgb(8,48,107)",
           "width": 1.5
          }
         },
         "opacity": 0.6,
         "showlegend": false,
         "type": "bar",
         "x": [
          "no",
          "yes"
         ],
         "xaxis": "x16",
         "y": [
          344,
          51
         ],
         "yaxis": "y16"
        },
        {
         "marker": {
          "line": {
           "color": "rgb(8,48,107)",
           "width": 1.5
          }
         },
         "opacity": 0.6,
         "showlegend": false,
         "type": "bar",
         "x": [
          "yes",
          "no"
         ],
         "xaxis": "x17",
         "y": [
          242,
          153
         ],
         "yaxis": "y17"
        },
        {
         "marker": {
          "line": {
           "color": "rgb(8,48,107)",
           "width": 1.5
          }
         },
         "opacity": 0.6,
         "showlegend": false,
         "type": "bar",
         "x": [
          "no",
          "yes"
         ],
         "xaxis": "x18",
         "y": [
          214,
          181
         ],
         "yaxis": "y18"
        },
        {
         "marker": {
          "line": {
           "color": "rgb(8,48,107)",
           "width": 1.5
          }
         },
         "opacity": 0.6,
         "showlegend": false,
         "type": "bar",
         "x": [
          "yes",
          "no"
         ],
         "xaxis": "x19",
         "y": [
          201,
          194
         ],
         "yaxis": "y19"
        },
        {
         "marker": {
          "line": {
           "color": "rgb(8,48,107)",
           "width": 1.5
          }
         },
         "opacity": 0.6,
         "showlegend": false,
         "type": "bar",
         "x": [
          "yes",
          "no"
         ],
         "xaxis": "x20",
         "y": [
          314,
          81
         ],
         "yaxis": "y20"
        },
        {
         "marker": {
          "line": {
           "color": "rgb(8,48,107)",
           "width": 1.5
          }
         },
         "opacity": 0.6,
         "showlegend": false,
         "type": "bar",
         "x": [
          "yes",
          "no"
         ],
         "xaxis": "x21",
         "y": [
          375,
          20
         ],
         "yaxis": "y21"
        },
        {
         "marker": {
          "line": {
           "color": "rgb(8,48,107)",
           "width": 1.5
          }
         },
         "opacity": 0.6,
         "showlegend": false,
         "type": "bar",
         "x": [
          "yes",
          "no"
         ],
         "xaxis": "x22",
         "y": [
          329,
          66
         ],
         "yaxis": "y22"
        },
        {
         "marker": {
          "line": {
           "color": "rgb(8,48,107)",
           "width": 1.5
          }
         },
         "opacity": 0.6,
         "showlegend": false,
         "type": "bar",
         "x": [
          "no",
          "yes"
         ],
         "xaxis": "x23",
         "y": [
          263,
          132
         ],
         "yaxis": "y23"
        },
        {
         "marker": {
          "line": {
           "color": "rgb(8,48,107)",
           "width": 1.5
          }
         },
         "opacity": 0.6,
         "showlegend": false,
         "type": "bar",
         "x": [
          4,
          5,
          3,
          2,
          1
         ],
         "xaxis": "x24",
         "y": [
          195,
          106,
          68,
          18,
          8
         ],
         "yaxis": "y24"
        },
        {
         "marker": {
          "line": {
           "color": "rgb(8,48,107)",
           "width": 1.5
          }
         },
         "opacity": 0.6,
         "showlegend": false,
         "type": "bar",
         "x": [
          3,
          4,
          2,
          5,
          1
         ],
         "xaxis": "x25",
         "y": [
          157,
          115,
          64,
          40,
          19
         ],
         "yaxis": "y25"
        },
        {
         "marker": {
          "line": {
           "color": "rgb(8,48,107)",
           "width": 1.5
          }
         },
         "opacity": 0.6,
         "showlegend": false,
         "type": "bar",
         "x": [
          3,
          2,
          4,
          5,
          1
         ],
         "xaxis": "x26",
         "y": [
          130,
          103,
          86,
          53,
          23
         ],
         "yaxis": "y26"
        },
        {
         "marker": {
          "line": {
           "color": "rgb(8,48,107)",
           "width": 1.5
          }
         },
         "opacity": 0.6,
         "showlegend": false,
         "type": "bar",
         "x": [
          1,
          2,
          3,
          5,
          4
         ],
         "xaxis": "x27",
         "y": [
          276,
          75,
          26,
          9,
          9
         ],
         "yaxis": "y27"
        },
        {
         "marker": {
          "line": {
           "color": "rgb(8,48,107)",
           "width": 1.5
          }
         },
         "opacity": 0.6,
         "showlegend": false,
         "type": "bar",
         "x": [
          1,
          2,
          3,
          4,
          5
         ],
         "xaxis": "x28",
         "y": [
          151,
          85,
          80,
          51,
          28
         ],
         "yaxis": "y28"
        },
        {
         "marker": {
          "line": {
           "color": "rgb(8,48,107)",
           "width": 1.5
          }
         },
         "opacity": 0.6,
         "showlegend": false,
         "type": "bar",
         "x": [
          5,
          3,
          4,
          1,
          2
         ],
         "xaxis": "x29",
         "y": [
          146,
          91,
          66,
          47,
          45
         ],
         "yaxis": "y29"
        },
        {
         "marker": {
          "line": {
           "color": "rgb(8,48,107)",
           "width": 1.5
          }
         },
         "opacity": 0.6,
         "showlegend": false,
         "type": "bar",
         "x": [
          0,
          2,
          4,
          6,
          8,
          10,
          14,
          12,
          3,
          7,
          16,
          18,
          5,
          20,
          22,
          13,
          1,
          9,
          11,
          15,
          23,
          24,
          21,
          25,
          56,
          26,
          28,
          30,
          17,
          38,
          40,
          54,
          19,
          75
         ],
         "xaxis": "x30",
         "y": [
          115,
          65,
          53,
          31,
          22,
          17,
          12,
          12,
          8,
          7,
          7,
          5,
          5,
          4,
          3,
          3,
          3,
          3,
          3,
          3,
          1,
          1,
          1,
          1,
          1,
          1,
          1,
          1,
          1,
          1,
          1,
          1,
          1,
          1
         ],
         "yaxis": "y30"
        }
       ],
       "layout": {
        "annotations": [
         {
          "font": {
           "size": 16
          },
          "showarrow": false,
          "text": "school",
          "x": 0.08399999999999999,
          "xanchor": "center",
          "xref": "paper",
          "y": 0.9999999999999999,
          "yanchor": "bottom",
          "yref": "paper"
         },
         {
          "font": {
           "size": 16
          },
          "showarrow": false,
          "text": "sex",
          "x": 0.292,
          "xanchor": "center",
          "xref": "paper",
          "y": 0.9999999999999999,
          "yanchor": "bottom",
          "yref": "paper"
         },
         {
          "font": {
           "size": 16
          },
          "showarrow": false,
          "text": "age",
          "x": 0.5,
          "xanchor": "center",
          "xref": "paper",
          "y": 0.9999999999999999,
          "yanchor": "bottom",
          "yref": "paper"
         },
         {
          "font": {
           "size": 16
          },
          "showarrow": false,
          "text": "address",
          "x": 0.708,
          "xanchor": "center",
          "xref": "paper",
          "y": 0.9999999999999999,
          "yanchor": "bottom",
          "yref": "paper"
         },
         {
          "font": {
           "size": 16
          },
          "showarrow": false,
          "text": "famsize",
          "x": 0.9159999999999999,
          "xanchor": "center",
          "xref": "paper",
          "y": 0.9999999999999999,
          "yanchor": "bottom",
          "yref": "paper"
         },
         {
          "font": {
           "size": 16
          },
          "showarrow": false,
          "text": "Pstatus",
          "x": 0.08399999999999999,
          "xanchor": "center",
          "xref": "paper",
          "y": 0.8194444444444444,
          "yanchor": "bottom",
          "yref": "paper"
         },
         {
          "font": {
           "size": 16
          },
          "showarrow": false,
          "text": "Medu",
          "x": 0.292,
          "xanchor": "center",
          "xref": "paper",
          "y": 0.8194444444444444,
          "yanchor": "bottom",
          "yref": "paper"
         },
         {
          "font": {
           "size": 16
          },
          "showarrow": false,
          "text": "Fedu",
          "x": 0.5,
          "xanchor": "center",
          "xref": "paper",
          "y": 0.8194444444444444,
          "yanchor": "bottom",
          "yref": "paper"
         },
         {
          "font": {
           "size": 16
          },
          "showarrow": false,
          "text": "Mjob",
          "x": 0.708,
          "xanchor": "center",
          "xref": "paper",
          "y": 0.8194444444444444,
          "yanchor": "bottom",
          "yref": "paper"
         },
         {
          "font": {
           "size": 16
          },
          "showarrow": false,
          "text": "Fjob",
          "x": 0.9159999999999999,
          "xanchor": "center",
          "xref": "paper",
          "y": 0.8194444444444444,
          "yanchor": "bottom",
          "yref": "paper"
         },
         {
          "font": {
           "size": 16
          },
          "showarrow": false,
          "text": "reason",
          "x": 0.08399999999999999,
          "xanchor": "center",
          "xref": "paper",
          "y": 0.638888888888889,
          "yanchor": "bottom",
          "yref": "paper"
         },
         {
          "font": {
           "size": 16
          },
          "showarrow": false,
          "text": "guardian",
          "x": 0.292,
          "xanchor": "center",
          "xref": "paper",
          "y": 0.638888888888889,
          "yanchor": "bottom",
          "yref": "paper"
         },
         {
          "font": {
           "size": 16
          },
          "showarrow": false,
          "text": "traveltime",
          "x": 0.5,
          "xanchor": "center",
          "xref": "paper",
          "y": 0.638888888888889,
          "yanchor": "bottom",
          "yref": "paper"
         },
         {
          "font": {
           "size": 16
          },
          "showarrow": false,
          "text": "studytime",
          "x": 0.708,
          "xanchor": "center",
          "xref": "paper",
          "y": 0.638888888888889,
          "yanchor": "bottom",
          "yref": "paper"
         },
         {
          "font": {
           "size": 16
          },
          "showarrow": false,
          "text": "failures",
          "x": 0.9159999999999999,
          "xanchor": "center",
          "xref": "paper",
          "y": 0.638888888888889,
          "yanchor": "bottom",
          "yref": "paper"
         },
         {
          "font": {
           "size": 16
          },
          "showarrow": false,
          "text": "schoolsup",
          "x": 0.08399999999999999,
          "xanchor": "center",
          "xref": "paper",
          "y": 0.4583333333333333,
          "yanchor": "bottom",
          "yref": "paper"
         },
         {
          "font": {
           "size": 16
          },
          "showarrow": false,
          "text": "famsup",
          "x": 0.292,
          "xanchor": "center",
          "xref": "paper",
          "y": 0.4583333333333333,
          "yanchor": "bottom",
          "yref": "paper"
         },
         {
          "font": {
           "size": 16
          },
          "showarrow": false,
          "text": "paid",
          "x": 0.5,
          "xanchor": "center",
          "xref": "paper",
          "y": 0.4583333333333333,
          "yanchor": "bottom",
          "yref": "paper"
         },
         {
          "font": {
           "size": 16
          },
          "showarrow": false,
          "text": "activities",
          "x": 0.708,
          "xanchor": "center",
          "xref": "paper",
          "y": 0.4583333333333333,
          "yanchor": "bottom",
          "yref": "paper"
         },
         {
          "font": {
           "size": 16
          },
          "showarrow": false,
          "text": "nursery",
          "x": 0.9159999999999999,
          "xanchor": "center",
          "xref": "paper",
          "y": 0.4583333333333333,
          "yanchor": "bottom",
          "yref": "paper"
         },
         {
          "font": {
           "size": 16
          },
          "showarrow": false,
          "text": "higher",
          "x": 0.08399999999999999,
          "xanchor": "center",
          "xref": "paper",
          "y": 0.2777777777777778,
          "yanchor": "bottom",
          "yref": "paper"
         },
         {
          "font": {
           "size": 16
          },
          "showarrow": false,
          "text": "internet",
          "x": 0.292,
          "xanchor": "center",
          "xref": "paper",
          "y": 0.2777777777777778,
          "yanchor": "bottom",
          "yref": "paper"
         },
         {
          "font": {
           "size": 16
          },
          "showarrow": false,
          "text": "romantic",
          "x": 0.5,
          "xanchor": "center",
          "xref": "paper",
          "y": 0.2777777777777778,
          "yanchor": "bottom",
          "yref": "paper"
         },
         {
          "font": {
           "size": 16
          },
          "showarrow": false,
          "text": "famrel",
          "x": 0.708,
          "xanchor": "center",
          "xref": "paper",
          "y": 0.2777777777777778,
          "yanchor": "bottom",
          "yref": "paper"
         },
         {
          "font": {
           "size": 16
          },
          "showarrow": false,
          "text": "freetime",
          "x": 0.9159999999999999,
          "xanchor": "center",
          "xref": "paper",
          "y": 0.2777777777777778,
          "yanchor": "bottom",
          "yref": "paper"
         },
         {
          "font": {
           "size": 16
          },
          "showarrow": false,
          "text": "goout",
          "x": 0.08399999999999999,
          "xanchor": "center",
          "xref": "paper",
          "y": 0.09722222222222222,
          "yanchor": "bottom",
          "yref": "paper"
         },
         {
          "font": {
           "size": 16
          },
          "showarrow": false,
          "text": "Dalc",
          "x": 0.292,
          "xanchor": "center",
          "xref": "paper",
          "y": 0.09722222222222222,
          "yanchor": "bottom",
          "yref": "paper"
         },
         {
          "font": {
           "size": 16
          },
          "showarrow": false,
          "text": "Walc",
          "x": 0.5,
          "xanchor": "center",
          "xref": "paper",
          "y": 0.09722222222222222,
          "yanchor": "bottom",
          "yref": "paper"
         },
         {
          "font": {
           "size": 16
          },
          "showarrow": false,
          "text": "health",
          "x": 0.708,
          "xanchor": "center",
          "xref": "paper",
          "y": 0.09722222222222222,
          "yanchor": "bottom",
          "yref": "paper"
         },
         {
          "font": {
           "size": 16
          },
          "showarrow": false,
          "text": "absences",
          "x": 0.9159999999999999,
          "xanchor": "center",
          "xref": "paper",
          "y": 0.09722222222222222,
          "yanchor": "bottom",
          "yref": "paper"
         }
        ],
        "autosize": true,
        "height": 1000,
        "margin": {
         "b": 100,
         "l": 50,
         "r": 50,
         "t": 100
        },
        "template": {
         "data": {
          "bar": [
           {
            "error_x": {
             "color": "#2a3f5f"
            },
            "error_y": {
             "color": "#2a3f5f"
            },
            "marker": {
             "line": {
              "color": "#E5ECF6",
              "width": 0.5
             }
            },
            "type": "bar"
           }
          ],
          "barpolar": [
           {
            "marker": {
             "line": {
              "color": "#E5ECF6",
              "width": 0.5
             }
            },
            "type": "barpolar"
           }
          ],
          "carpet": [
           {
            "aaxis": {
             "endlinecolor": "#2a3f5f",
             "gridcolor": "white",
             "linecolor": "white",
             "minorgridcolor": "white",
             "startlinecolor": "#2a3f5f"
            },
            "baxis": {
             "endlinecolor": "#2a3f5f",
             "gridcolor": "white",
             "linecolor": "white",
             "minorgridcolor": "white",
             "startlinecolor": "#2a3f5f"
            },
            "type": "carpet"
           }
          ],
          "choropleth": [
           {
            "colorbar": {
             "outlinewidth": 0,
             "ticks": ""
            },
            "type": "choropleth"
           }
          ],
          "contour": [
           {
            "colorbar": {
             "outlinewidth": 0,
             "ticks": ""
            },
            "colorscale": [
             [
              0,
              "#0d0887"
             ],
             [
              0.1111111111111111,
              "#46039f"
             ],
             [
              0.2222222222222222,
              "#7201a8"
             ],
             [
              0.3333333333333333,
              "#9c179e"
             ],
             [
              0.4444444444444444,
              "#bd3786"
             ],
             [
              0.5555555555555556,
              "#d8576b"
             ],
             [
              0.6666666666666666,
              "#ed7953"
             ],
             [
              0.7777777777777778,
              "#fb9f3a"
             ],
             [
              0.8888888888888888,
              "#fdca26"
             ],
             [
              1,
              "#f0f921"
             ]
            ],
            "type": "contour"
           }
          ],
          "contourcarpet": [
           {
            "colorbar": {
             "outlinewidth": 0,
             "ticks": ""
            },
            "type": "contourcarpet"
           }
          ],
          "heatmap": [
           {
            "colorbar": {
             "outlinewidth": 0,
             "ticks": ""
            },
            "colorscale": [
             [
              0,
              "#0d0887"
             ],
             [
              0.1111111111111111,
              "#46039f"
             ],
             [
              0.2222222222222222,
              "#7201a8"
             ],
             [
              0.3333333333333333,
              "#9c179e"
             ],
             [
              0.4444444444444444,
              "#bd3786"
             ],
             [
              0.5555555555555556,
              "#d8576b"
             ],
             [
              0.6666666666666666,
              "#ed7953"
             ],
             [
              0.7777777777777778,
              "#fb9f3a"
             ],
             [
              0.8888888888888888,
              "#fdca26"
             ],
             [
              1,
              "#f0f921"
             ]
            ],
            "type": "heatmap"
           }
          ],
          "heatmapgl": [
           {
            "colorbar": {
             "outlinewidth": 0,
             "ticks": ""
            },
            "colorscale": [
             [
              0,
              "#0d0887"
             ],
             [
              0.1111111111111111,
              "#46039f"
             ],
             [
              0.2222222222222222,
              "#7201a8"
             ],
             [
              0.3333333333333333,
              "#9c179e"
             ],
             [
              0.4444444444444444,
              "#bd3786"
             ],
             [
              0.5555555555555556,
              "#d8576b"
             ],
             [
              0.6666666666666666,
              "#ed7953"
             ],
             [
              0.7777777777777778,
              "#fb9f3a"
             ],
             [
              0.8888888888888888,
              "#fdca26"
             ],
             [
              1,
              "#f0f921"
             ]
            ],
            "type": "heatmapgl"
           }
          ],
          "histogram": [
           {
            "marker": {
             "colorbar": {
              "outlinewidth": 0,
              "ticks": ""
             }
            },
            "type": "histogram"
           }
          ],
          "histogram2d": [
           {
            "colorbar": {
             "outlinewidth": 0,
             "ticks": ""
            },
            "colorscale": [
             [
              0,
              "#0d0887"
             ],
             [
              0.1111111111111111,
              "#46039f"
             ],
             [
              0.2222222222222222,
              "#7201a8"
             ],
             [
              0.3333333333333333,
              "#9c179e"
             ],
             [
              0.4444444444444444,
              "#bd3786"
             ],
             [
              0.5555555555555556,
              "#d8576b"
             ],
             [
              0.6666666666666666,
              "#ed7953"
             ],
             [
              0.7777777777777778,
              "#fb9f3a"
             ],
             [
              0.8888888888888888,
              "#fdca26"
             ],
             [
              1,
              "#f0f921"
             ]
            ],
            "type": "histogram2d"
           }
          ],
          "histogram2dcontour": [
           {
            "colorbar": {
             "outlinewidth": 0,
             "ticks": ""
            },
            "colorscale": [
             [
              0,
              "#0d0887"
             ],
             [
              0.1111111111111111,
              "#46039f"
             ],
             [
              0.2222222222222222,
              "#7201a8"
             ],
             [
              0.3333333333333333,
              "#9c179e"
             ],
             [
              0.4444444444444444,
              "#bd3786"
             ],
             [
              0.5555555555555556,
              "#d8576b"
             ],
             [
              0.6666666666666666,
              "#ed7953"
             ],
             [
              0.7777777777777778,
              "#fb9f3a"
             ],
             [
              0.8888888888888888,
              "#fdca26"
             ],
             [
              1,
              "#f0f921"
             ]
            ],
            "type": "histogram2dcontour"
           }
          ],
          "mesh3d": [
           {
            "colorbar": {
             "outlinewidth": 0,
             "ticks": ""
            },
            "type": "mesh3d"
           }
          ],
          "parcoords": [
           {
            "line": {
             "colorbar": {
              "outlinewidth": 0,
              "ticks": ""
             }
            },
            "type": "parcoords"
           }
          ],
          "pie": [
           {
            "automargin": true,
            "type": "pie"
           }
          ],
          "scatter": [
           {
            "marker": {
             "colorbar": {
              "outlinewidth": 0,
              "ticks": ""
             }
            },
            "type": "scatter"
           }
          ],
          "scatter3d": [
           {
            "line": {
             "colorbar": {
              "outlinewidth": 0,
              "ticks": ""
             }
            },
            "marker": {
             "colorbar": {
              "outlinewidth": 0,
              "ticks": ""
             }
            },
            "type": "scatter3d"
           }
          ],
          "scattercarpet": [
           {
            "marker": {
             "colorbar": {
              "outlinewidth": 0,
              "ticks": ""
             }
            },
            "type": "scattercarpet"
           }
          ],
          "scattergeo": [
           {
            "marker": {
             "colorbar": {
              "outlinewidth": 0,
              "ticks": ""
             }
            },
            "type": "scattergeo"
           }
          ],
          "scattergl": [
           {
            "marker": {
             "colorbar": {
              "outlinewidth": 0,
              "ticks": ""
             }
            },
            "type": "scattergl"
           }
          ],
          "scattermapbox": [
           {
            "marker": {
             "colorbar": {
              "outlinewidth": 0,
              "ticks": ""
             }
            },
            "type": "scattermapbox"
           }
          ],
          "scatterpolar": [
           {
            "marker": {
             "colorbar": {
              "outlinewidth": 0,
              "ticks": ""
             }
            },
            "type": "scatterpolar"
           }
          ],
          "scatterpolargl": [
           {
            "marker": {
             "colorbar": {
              "outlinewidth": 0,
              "ticks": ""
             }
            },
            "type": "scatterpolargl"
           }
          ],
          "scatterternary": [
           {
            "marker": {
             "colorbar": {
              "outlinewidth": 0,
              "ticks": ""
             }
            },
            "type": "scatterternary"
           }
          ],
          "surface": [
           {
            "colorbar": {
             "outlinewidth": 0,
             "ticks": ""
            },
            "colorscale": [
             [
              0,
              "#0d0887"
             ],
             [
              0.1111111111111111,
              "#46039f"
             ],
             [
              0.2222222222222222,
              "#7201a8"
             ],
             [
              0.3333333333333333,
              "#9c179e"
             ],
             [
              0.4444444444444444,
              "#bd3786"
             ],
             [
              0.5555555555555556,
              "#d8576b"
             ],
             [
              0.6666666666666666,
              "#ed7953"
             ],
             [
              0.7777777777777778,
              "#fb9f3a"
             ],
             [
              0.8888888888888888,
              "#fdca26"
             ],
             [
              1,
              "#f0f921"
             ]
            ],
            "type": "surface"
           }
          ],
          "table": [
           {
            "cells": {
             "fill": {
              "color": "#EBF0F8"
             },
             "line": {
              "color": "white"
             }
            },
            "header": {
             "fill": {
              "color": "#C8D4E3"
             },
             "line": {
              "color": "white"
             }
            },
            "type": "table"
           }
          ]
         },
         "layout": {
          "annotationdefaults": {
           "arrowcolor": "#2a3f5f",
           "arrowhead": 0,
           "arrowwidth": 1
          },
          "coloraxis": {
           "colorbar": {
            "outlinewidth": 0,
            "ticks": ""
           }
          },
          "colorscale": {
           "diverging": [
            [
             0,
             "#8e0152"
            ],
            [
             0.1,
             "#c51b7d"
            ],
            [
             0.2,
             "#de77ae"
            ],
            [
             0.3,
             "#f1b6da"
            ],
            [
             0.4,
             "#fde0ef"
            ],
            [
             0.5,
             "#f7f7f7"
            ],
            [
             0.6,
             "#e6f5d0"
            ],
            [
             0.7,
             "#b8e186"
            ],
            [
             0.8,
             "#7fbc41"
            ],
            [
             0.9,
             "#4d9221"
            ],
            [
             1,
             "#276419"
            ]
           ],
           "sequential": [
            [
             0,
             "#0d0887"
            ],
            [
             0.1111111111111111,
             "#46039f"
            ],
            [
             0.2222222222222222,
             "#7201a8"
            ],
            [
             0.3333333333333333,
             "#9c179e"
            ],
            [
             0.4444444444444444,
             "#bd3786"
            ],
            [
             0.5555555555555556,
             "#d8576b"
            ],
            [
             0.6666666666666666,
             "#ed7953"
            ],
            [
             0.7777777777777778,
             "#fb9f3a"
            ],
            [
             0.8888888888888888,
             "#fdca26"
            ],
            [
             1,
             "#f0f921"
            ]
           ],
           "sequentialminus": [
            [
             0,
             "#0d0887"
            ],
            [
             0.1111111111111111,
             "#46039f"
            ],
            [
             0.2222222222222222,
             "#7201a8"
            ],
            [
             0.3333333333333333,
             "#9c179e"
            ],
            [
             0.4444444444444444,
             "#bd3786"
            ],
            [
             0.5555555555555556,
             "#d8576b"
            ],
            [
             0.6666666666666666,
             "#ed7953"
            ],
            [
             0.7777777777777778,
             "#fb9f3a"
            ],
            [
             0.8888888888888888,
             "#fdca26"
            ],
            [
             1,
             "#f0f921"
            ]
           ]
          },
          "colorway": [
           "#636efa",
           "#EF553B",
           "#00cc96",
           "#ab63fa",
           "#FFA15A",
           "#19d3f3",
           "#FF6692",
           "#B6E880",
           "#FF97FF",
           "#FECB52"
          ],
          "font": {
           "color": "#2a3f5f"
          },
          "geo": {
           "bgcolor": "white",
           "lakecolor": "white",
           "landcolor": "#E5ECF6",
           "showlakes": true,
           "showland": true,
           "subunitcolor": "white"
          },
          "hoverlabel": {
           "align": "left"
          },
          "hovermode": "closest",
          "mapbox": {
           "style": "light"
          },
          "paper_bgcolor": "white",
          "plot_bgcolor": "#E5ECF6",
          "polar": {
           "angularaxis": {
            "gridcolor": "white",
            "linecolor": "white",
            "ticks": ""
           },
           "bgcolor": "#E5ECF6",
           "radialaxis": {
            "gridcolor": "white",
            "linecolor": "white",
            "ticks": ""
           }
          },
          "scene": {
           "xaxis": {
            "backgroundcolor": "#E5ECF6",
            "gridcolor": "white",
            "gridwidth": 2,
            "linecolor": "white",
            "showbackground": true,
            "ticks": "",
            "zerolinecolor": "white"
           },
           "yaxis": {
            "backgroundcolor": "#E5ECF6",
            "gridcolor": "white",
            "gridwidth": 2,
            "linecolor": "white",
            "showbackground": true,
            "ticks": "",
            "zerolinecolor": "white"
           },
           "zaxis": {
            "backgroundcolor": "#E5ECF6",
            "gridcolor": "white",
            "gridwidth": 2,
            "linecolor": "white",
            "showbackground": true,
            "ticks": "",
            "zerolinecolor": "white"
           }
          },
          "shapedefaults": {
           "line": {
            "color": "#2a3f5f"
           }
          },
          "ternary": {
           "aaxis": {
            "gridcolor": "white",
            "linecolor": "white",
            "ticks": ""
           },
           "baxis": {
            "gridcolor": "white",
            "linecolor": "white",
            "ticks": ""
           },
           "bgcolor": "#E5ECF6",
           "caxis": {
            "gridcolor": "white",
            "linecolor": "white",
            "ticks": ""
           }
          },
          "title": {
           "x": 0.05
          },
          "xaxis": {
           "automargin": true,
           "gridcolor": "white",
           "linecolor": "white",
           "ticks": "",
           "title": {
            "standoff": 15
           },
           "zerolinecolor": "white",
           "zerolinewidth": 2
          },
          "yaxis": {
           "automargin": true,
           "gridcolor": "white",
           "linecolor": "white",
           "ticks": "",
           "title": {
            "standoff": 15
           },
           "zerolinecolor": "white",
           "zerolinewidth": 2
          }
         }
        },
        "title": {
         "text": "Histogram values for each feature"
        },
        "width": 1000,
        "xaxis": {
         "anchor": "y",
         "domain": [
          0,
          0.16799999999999998
         ]
        },
        "xaxis10": {
         "anchor": "y10",
         "domain": [
          0.832,
          1
         ]
        },
        "xaxis11": {
         "anchor": "y11",
         "domain": [
          0,
          0.16799999999999998
         ]
        },
        "xaxis12": {
         "anchor": "y12",
         "domain": [
          0.208,
          0.376
         ]
        },
        "xaxis13": {
         "anchor": "y13",
         "domain": [
          0.416,
          0.584
         ]
        },
        "xaxis14": {
         "anchor": "y14",
         "domain": [
          0.624,
          0.792
         ]
        },
        "xaxis15": {
         "anchor": "y15",
         "domain": [
          0.832,
          1
         ]
        },
        "xaxis16": {
         "anchor": "y16",
         "domain": [
          0,
          0.16799999999999998
         ]
        },
        "xaxis17": {
         "anchor": "y17",
         "domain": [
          0.208,
          0.376
         ]
        },
        "xaxis18": {
         "anchor": "y18",
         "domain": [
          0.416,
          0.584
         ]
        },
        "xaxis19": {
         "anchor": "y19",
         "domain": [
          0.624,
          0.792
         ]
        },
        "xaxis2": {
         "anchor": "y2",
         "domain": [
          0.208,
          0.376
         ]
        },
        "xaxis20": {
         "anchor": "y20",
         "domain": [
          0.832,
          1
         ]
        },
        "xaxis21": {
         "anchor": "y21",
         "domain": [
          0,
          0.16799999999999998
         ]
        },
        "xaxis22": {
         "anchor": "y22",
         "domain": [
          0.208,
          0.376
         ]
        },
        "xaxis23": {
         "anchor": "y23",
         "domain": [
          0.416,
          0.584
         ]
        },
        "xaxis24": {
         "anchor": "y24",
         "domain": [
          0.624,
          0.792
         ]
        },
        "xaxis25": {
         "anchor": "y25",
         "domain": [
          0.832,
          1
         ]
        },
        "xaxis26": {
         "anchor": "y26",
         "domain": [
          0,
          0.16799999999999998
         ]
        },
        "xaxis27": {
         "anchor": "y27",
         "domain": [
          0.208,
          0.376
         ]
        },
        "xaxis28": {
         "anchor": "y28",
         "domain": [
          0.416,
          0.584
         ]
        },
        "xaxis29": {
         "anchor": "y29",
         "domain": [
          0.624,
          0.792
         ]
        },
        "xaxis3": {
         "anchor": "y3",
         "domain": [
          0.416,
          0.584
         ]
        },
        "xaxis30": {
         "anchor": "y30",
         "domain": [
          0.832,
          1
         ]
        },
        "xaxis4": {
         "anchor": "y4",
         "domain": [
          0.624,
          0.792
         ]
        },
        "xaxis5": {
         "anchor": "y5",
         "domain": [
          0.832,
          1
         ]
        },
        "xaxis6": {
         "anchor": "y6",
         "domain": [
          0,
          0.16799999999999998
         ]
        },
        "xaxis7": {
         "anchor": "y7",
         "domain": [
          0.208,
          0.376
         ]
        },
        "xaxis8": {
         "anchor": "y8",
         "domain": [
          0.416,
          0.584
         ]
        },
        "xaxis9": {
         "anchor": "y9",
         "domain": [
          0.624,
          0.792
         ]
        },
        "yaxis": {
         "anchor": "x",
         "domain": [
          0.9027777777777777,
          0.9999999999999999
         ]
        },
        "yaxis10": {
         "anchor": "x10",
         "domain": [
          0.7222222222222222,
          0.8194444444444444
         ]
        },
        "yaxis11": {
         "anchor": "x11",
         "domain": [
          0.5416666666666667,
          0.638888888888889
         ]
        },
        "yaxis12": {
         "anchor": "x12",
         "domain": [
          0.5416666666666667,
          0.638888888888889
         ]
        },
        "yaxis13": {
         "anchor": "x13",
         "domain": [
          0.5416666666666667,
          0.638888888888889
         ]
        },
        "yaxis14": {
         "anchor": "x14",
         "domain": [
          0.5416666666666667,
          0.638888888888889
         ]
        },
        "yaxis15": {
         "anchor": "x15",
         "domain": [
          0.5416666666666667,
          0.638888888888889
         ]
        },
        "yaxis16": {
         "anchor": "x16",
         "domain": [
          0.3611111111111111,
          0.4583333333333333
         ]
        },
        "yaxis17": {
         "anchor": "x17",
         "domain": [
          0.3611111111111111,
          0.4583333333333333
         ]
        },
        "yaxis18": {
         "anchor": "x18",
         "domain": [
          0.3611111111111111,
          0.4583333333333333
         ]
        },
        "yaxis19": {
         "anchor": "x19",
         "domain": [
          0.3611111111111111,
          0.4583333333333333
         ]
        },
        "yaxis2": {
         "anchor": "x2",
         "domain": [
          0.9027777777777777,
          0.9999999999999999
         ]
        },
        "yaxis20": {
         "anchor": "x20",
         "domain": [
          0.3611111111111111,
          0.4583333333333333
         ]
        },
        "yaxis21": {
         "anchor": "x21",
         "domain": [
          0.18055555555555555,
          0.2777777777777778
         ]
        },
        "yaxis22": {
         "anchor": "x22",
         "domain": [
          0.18055555555555555,
          0.2777777777777778
         ]
        },
        "yaxis23": {
         "anchor": "x23",
         "domain": [
          0.18055555555555555,
          0.2777777777777778
         ]
        },
        "yaxis24": {
         "anchor": "x24",
         "domain": [
          0.18055555555555555,
          0.2777777777777778
         ]
        },
        "yaxis25": {
         "anchor": "x25",
         "domain": [
          0.18055555555555555,
          0.2777777777777778
         ]
        },
        "yaxis26": {
         "anchor": "x26",
         "domain": [
          0,
          0.09722222222222222
         ]
        },
        "yaxis27": {
         "anchor": "x27",
         "domain": [
          0,
          0.09722222222222222
         ]
        },
        "yaxis28": {
         "anchor": "x28",
         "domain": [
          0,
          0.09722222222222222
         ]
        },
        "yaxis29": {
         "anchor": "x29",
         "domain": [
          0,
          0.09722222222222222
         ]
        },
        "yaxis3": {
         "anchor": "x3",
         "domain": [
          0.9027777777777777,
          0.9999999999999999
         ]
        },
        "yaxis30": {
         "anchor": "x30",
         "domain": [
          0,
          0.09722222222222222
         ]
        },
        "yaxis4": {
         "anchor": "x4",
         "domain": [
          0.9027777777777777,
          0.9999999999999999
         ]
        },
        "yaxis5": {
         "anchor": "x5",
         "domain": [
          0.9027777777777777,
          0.9999999999999999
         ]
        },
        "yaxis6": {
         "anchor": "x6",
         "domain": [
          0.7222222222222222,
          0.8194444444444444
         ]
        },
        "yaxis7": {
         "anchor": "x7",
         "domain": [
          0.7222222222222222,
          0.8194444444444444
         ]
        },
        "yaxis8": {
         "anchor": "x8",
         "domain": [
          0.7222222222222222,
          0.8194444444444444
         ]
        },
        "yaxis9": {
         "anchor": "x9",
         "domain": [
          0.7222222222222222,
          0.8194444444444444
         ]
        }
       }
      }
     },
     "metadata": {}
    }
   ],
   "source": [
    "fig = make_subplots(\n",
    "    rows=6, cols=5,\n",
    "    subplot_titles=all_features)\n",
    "\n",
    "for i in range(len(all_features)):\n",
    "    feature=all_features[i]\n",
    "    fig.append_trace(\n",
    "        go.Bar(\n",
    "            x=data[feature].value_counts().index,\n",
    "            y=data[feature].value_counts().values,\n",
    "            showlegend=False\n",
    "            ),\n",
    "        row = i // 5 + 1,\n",
    "        col = i % 5 + 1\n",
    "    )\n",
    "\n",
    "fig.update_layout(\n",
    "    autosize=True,\n",
    "    width=1000,\n",
    "    height=1000,\n",
    "    title_text=\"Histogram values for each feature\",\n",
    "    margin=dict(l=50, r=50, t=100, b=100),\n",
    ")\n",
    "\n",
    "fig.update_traces(marker_line_color='rgb(8,48,107)',\n",
    "                  marker_line_width=1.5, opacity=0.6)\n",
    "\n",
    "fig.show()"
   ]
  },
  {
   "cell_type": "markdown",
   "metadata": {},
   "source": [
    "We can make some observations from the above data:\n",
    "\n",
    "**Spread of variables**\n",
    "\n",
    "The distribution of the following binary categorical variables have comparatively large spreads:\n",
    "\n",
    "- `address` : More students have urban home addresses\n",
    "- `famsize` : Most students come from families which have more than 3 members\n",
    "- `Pstatus` : Most students have parents who are together rather than apart\n",
    "- `schoolsup` : Most students did not receive educational support from the school\n",
    "- `nursery` : Most students went to nursery school\n",
    "- `higher` : Most students intend to pursue higher education after school\n",
    "- `internet` : Most students have reliable access to an internet connection \n",
    "\n",
    "\n",
    "**Possible correlations between features**\n",
    "\n",
    "1. The spread of students living in urban vs rural areas closely mirrors that of those with and without an internet connection. We postulate that these 2 factors are correlated, since internet connection plans are often tied to a place of residence. It is likely that `address` is the causal factor that explains `internet`.\n",
    "2. There should be a correlation between `Dalc` and `Walc`, since both features are linked to the overall habit of alcohol consumption\n",
    "3. We suspect that there is a correlation between `Medu` and `Fedu`. People are more likely to likely to enter into relationships with those of a similar social status, and the level of education achieved is a good predictor of this\n"
   ]
  },
  {
   "cell_type": "markdown",
   "metadata": {},
   "source": [
    "### 3.2 - Multivariate analysis"
   ]
  },
  {
   "cell_type": "markdown",
   "metadata": {},
   "source": [
    "Let's also take a look at how the mean of `G3` differs for different values of each feature, with all else being equal"
   ]
  },
  {
   "cell_type": "code",
   "execution_count": 11,
   "metadata": {},
   "outputs": [
    {
     "output_type": "display_data",
     "data": {
      "application/vnd.plotly.v1+json": {
       "config": {
        "plotlyServerURL": "https://plot.ly"
       },
       "data": [
        {
         "marker": {
          "line": {
           "color": "rgb(8,48,107)",
           "width": 1.5
          }
         },
         "opacity": 0.6,
         "showlegend": false,
         "type": "bar",
         "x": [
          "GP",
          "MS"
         ],
         "xaxis": "x",
         "y": [
          10.489971346704872,
          9.847826086956522
         ],
         "yaxis": "y"
        },
        {
         "marker": {
          "line": {
           "color": "rgb(8,48,107)",
           "width": 1.5
          }
         },
         "opacity": 0.6,
         "showlegend": false,
         "type": "bar",
         "x": [
          "F",
          "M"
         ],
         "xaxis": "x2",
         "y": [
          9.966346153846153,
          10.914438502673796
         ],
         "yaxis": "y2"
        },
        {
         "marker": {
          "line": {
           "color": "rgb(8,48,107)",
           "width": 1.5
          }
         },
         "opacity": 0.6,
         "showlegend": false,
         "type": "bar",
         "x": [
          18,
          17,
          15,
          16,
          19,
          22,
          20,
          21
         ],
         "xaxis": "x3",
         "y": [
          9.548780487804878,
          10.275510204081632,
          11.25609756097561,
          11.028846153846153,
          8.208333333333334,
          8,
          14,
          7
         ],
         "yaxis": "y3"
        },
        {
         "marker": {
          "line": {
           "color": "rgb(8,48,107)",
           "width": 1.5
          }
         },
         "opacity": 0.6,
         "showlegend": false,
         "type": "bar",
         "x": [
          "U",
          "R"
         ],
         "xaxis": "x4",
         "y": [
          10.674267100977199,
          9.511363636363637
         ],
         "yaxis": "y4"
        },
        {
         "marker": {
          "line": {
           "color": "rgb(8,48,107)",
           "width": 1.5
          }
         },
         "opacity": 0.6,
         "showlegend": false,
         "type": "bar",
         "x": [
          "GT3",
          "LE3"
         ],
         "xaxis": "x5",
         "y": [
          10.177935943060499,
          11
         ],
         "yaxis": "y5"
        },
        {
         "marker": {
          "line": {
           "color": "rgb(8,48,107)",
           "width": 1.5
          }
         },
         "opacity": 0.6,
         "showlegend": false,
         "type": "bar",
         "x": [
          "A",
          "T"
         ],
         "xaxis": "x6",
         "y": [
          11.195121951219512,
          10.324858757062147
         ],
         "yaxis": "y6"
        },
        {
         "marker": {
          "line": {
           "color": "rgb(8,48,107)",
           "width": 1.5
          }
         },
         "opacity": 0.6,
         "showlegend": false,
         "type": "bar",
         "x": [
          4,
          1,
          3,
          2,
          0
         ],
         "xaxis": "x7",
         "y": [
          11.763358778625955,
          8.677966101694915,
          10.303030303030303,
          9.728155339805825,
          13
         ],
         "yaxis": "y7"
        },
        {
         "marker": {
          "line": {
           "color": "rgb(8,48,107)",
           "width": 1.5
          }
         },
         "opacity": 0.6,
         "showlegend": false,
         "type": "bar",
         "x": [
          4,
          1,
          2,
          3,
          0
         ],
         "xaxis": "x8",
         "y": [
          11.364583333333334,
          9.158536585365853,
          10.26086956521739,
          10.66,
          13
         ],
         "yaxis": "y8"
        },
        {
         "marker": {
          "line": {
           "color": "rgb(8,48,107)",
           "width": 1.5
          }
         },
         "opacity": 0.6,
         "showlegend": false,
         "type": "bar",
         "x": [
          "at_home",
          "health",
          "other",
          "services",
          "teacher"
         ],
         "xaxis": "x9",
         "y": [
          9.152542372881356,
          12.147058823529411,
          9.822695035460994,
          11.019417475728156,
          11.051724137931034
         ],
         "yaxis": "y9"
        },
        {
         "marker": {
          "line": {
           "color": "rgb(8,48,107)",
           "width": 1.5
          }
         },
         "opacity": 0.6,
         "showlegend": false,
         "type": "bar",
         "x": [
          "teacher",
          "other",
          "services",
          "health",
          "at_home"
         ],
         "xaxis": "x10",
         "y": [
          11.96551724137931,
          10.193548387096774,
          10.297297297297296,
          11.61111111111111,
          10.15
         ],
         "yaxis": "y10"
        },
        {
         "marker": {
          "line": {
           "color": "rgb(8,48,107)",
           "width": 1.5
          }
         },
         "opacity": 0.6,
         "showlegend": false,
         "type": "bar",
         "x": [
          "course",
          "other",
          "home",
          "reputation"
         ],
         "xaxis": "x11",
         "y": [
          9.820689655172414,
          11.166666666666666,
          10.256880733944953,
          11.142857142857142
         ],
         "yaxis": "y11"
        },
        {
         "marker": {
          "line": {
           "color": "rgb(8,48,107)",
           "width": 1.5
          }
         },
         "opacity": 0.6,
         "showlegend": false,
         "type": "bar",
         "x": [
          "mother",
          "father",
          "other"
         ],
         "xaxis": "x12",
         "y": [
          10.483516483516484,
          10.688888888888888,
          9.0625
         ],
         "yaxis": "y12"
        },
        {
         "marker": {
          "line": {
           "color": "rgb(8,48,107)",
           "width": 1.5
          }
         },
         "opacity": 0.6,
         "showlegend": false,
         "type": "bar",
         "x": [
          2,
          1,
          3,
          4
         ],
         "xaxis": "x13",
         "y": [
          9.906542056074766,
          10.782101167315176,
          9.26086956521739,
          8.75
         ],
         "yaxis": "y13"
        },
        {
         "marker": {
          "line": {
           "color": "rgb(8,48,107)",
           "width": 1.5
          }
         },
         "opacity": 0.6,
         "showlegend": false,
         "type": "bar",
         "x": [
          2,
          3,
          1,
          4
         ],
         "xaxis": "x14",
         "y": [
          10.171717171717171,
          11.4,
          10.047619047619047,
          11.25925925925926
         ],
         "yaxis": "y14"
        },
        {
         "marker": {
          "line": {
           "color": "rgb(8,48,107)",
           "width": 1.5
          }
         },
         "opacity": 0.6,
         "showlegend": false,
         "type": "bar",
         "x": [
          0,
          3,
          2,
          1
         ],
         "xaxis": "x15",
         "y": [
          11.253205128205128,
          5.6875,
          6.235294117647059,
          8.12
         ],
         "yaxis": "y15"
        },
        {
         "marker": {
          "line": {
           "color": "rgb(8,48,107)",
           "width": 1.5
          }
         },
         "opacity": 0.6,
         "showlegend": false,
         "type": "bar",
         "x": [
          "yes",
          "no"
         ],
         "xaxis": "x16",
         "y": [
          9.431372549019608,
          10.561046511627907
         ],
         "yaxis": "y16"
        },
        {
         "marker": {
          "line": {
           "color": "rgb(8,48,107)",
           "width": 1.5
          }
         },
         "opacity": 0.6,
         "showlegend": false,
         "type": "bar",
         "x": [
          "no",
          "yes"
         ],
         "xaxis": "x17",
         "y": [
          10.640522875816993,
          10.272727272727273
         ],
         "yaxis": "y17"
        },
        {
         "marker": {
          "line": {
           "color": "rgb(8,48,107)",
           "width": 1.5
          }
         },
         "opacity": 0.6,
         "showlegend": false,
         "type": "bar",
         "x": [
          "no",
          "yes"
         ],
         "xaxis": "x18",
         "y": [
          9.985981308411215,
          10.922651933701658
         ],
         "yaxis": "y18"
        },
        {
         "marker": {
          "line": {
           "color": "rgb(8,48,107)",
           "width": 1.5
          }
         },
         "opacity": 0.6,
         "showlegend": false,
         "type": "bar",
         "x": [
          "no",
          "yes"
         ],
         "xaxis": "x19",
         "y": [
          10.34020618556701,
          10.487562189054726
         ],
         "yaxis": "y19"
        },
        {
         "marker": {
          "line": {
           "color": "rgb(8,48,107)",
           "width": 1.5
          }
         },
         "opacity": 0.6,
         "showlegend": false,
         "type": "bar",
         "x": [
          "yes",
          "no"
         ],
         "xaxis": "x20",
         "y": [
          10.535031847133759,
          9.950617283950617
         ],
         "yaxis": "y20"
        },
        {
         "marker": {
          "line": {
           "color": "rgb(8,48,107)",
           "width": 1.5
          }
         },
         "opacity": 0.6,
         "showlegend": false,
         "type": "bar",
         "x": [
          "yes",
          "no"
         ],
         "xaxis": "x21",
         "y": [
          10.608,
          6.8
         ],
         "yaxis": "y21"
        },
        {
         "marker": {
          "line": {
           "color": "rgb(8,48,107)",
           "width": 1.5
          }
         },
         "opacity": 0.6,
         "showlegend": false,
         "type": "bar",
         "x": [
          "no",
          "yes"
         ],
         "xaxis": "x22",
         "y": [
          9.409090909090908,
          10.617021276595745
         ],
         "yaxis": "y22"
        },
        {
         "marker": {
          "line": {
           "color": "rgb(8,48,107)",
           "width": 1.5
          }
         },
         "opacity": 0.6,
         "showlegend": false,
         "type": "bar",
         "x": [
          "no",
          "yes"
         ],
         "xaxis": "x23",
         "y": [
          10.836501901140684,
          9.575757575757576
         ],
         "yaxis": "y23"
        },
        {
         "marker": {
          "line": {
           "color": "rgb(8,48,107)",
           "width": 1.5
          }
         },
         "opacity": 0.6,
         "showlegend": false,
         "type": "bar",
         "x": [
          4,
          5,
          3,
          1,
          2
         ],
         "xaxis": "x24",
         "y": [
          10.35897435897436,
          10.830188679245284,
          10.044117647058824,
          10.625,
          9.88888888888889
         ],
         "yaxis": "y24"
        },
        {
         "marker": {
          "line": {
           "color": "rgb(8,48,107)",
           "width": 1.5
          }
         },
         "opacity": 0.6,
         "showlegend": false,
         "type": "bar",
         "x": [
          3,
          2,
          4,
          1,
          5
         ],
         "xaxis": "x25",
         "y": [
          9.78343949044586,
          11.5625,
          10.42608695652174,
          9.842105263157896,
          11.3
         ],
         "yaxis": "y25"
        },
        {
         "marker": {
          "line": {
           "color": "rgb(8,48,107)",
           "width": 1.5
          }
         },
         "opacity": 0.6,
         "showlegend": false,
         "type": "bar",
         "x": [
          4,
          3,
          2,
          1,
          5
         ],
         "xaxis": "x26",
         "y": [
          9.651162790697674,
          10.961538461538462,
          11.194174757281553,
          9.869565217391305,
          9.037735849056604
         ],
         "yaxis": "y26"
        },
        {
         "marker": {
          "line": {
           "color": "rgb(8,48,107)",
           "width": 1.5
          }
         },
         "opacity": 0.6,
         "showlegend": false,
         "type": "bar",
         "x": [
          1,
          2,
          5,
          3,
          4
         ],
         "xaxis": "x27",
         "y": [
          10.731884057971014,
          9.253333333333334,
          10.666666666666666,
          10.5,
          9.88888888888889
         ],
         "yaxis": "y27"
        },
        {
         "marker": {
          "line": {
           "color": "rgb(8,48,107)",
           "width": 1.5
          }
         },
         "opacity": 0.6,
         "showlegend": false,
         "type": "bar",
         "x": [
          1,
          3,
          2,
          4,
          5
         ],
         "xaxis": "x28",
         "y": [
          10.735099337748345,
          10.725,
          10.08235294117647,
          9.686274509803921,
          10.142857142857142
         ],
         "yaxis": "y28"
        },
        {
         "marker": {
          "line": {
           "color": "rgb(8,48,107)",
           "width": 1.5
          }
         },
         "opacity": 0.6,
         "showlegend": false,
         "type": "bar",
         "x": [
          3,
          5,
          1,
          2,
          4
         ],
         "xaxis": "x29",
         "y": [
          10.010989010989011,
          10.397260273972602,
          11.872340425531915,
          10.222222222222221,
          10.106060606060606
         ],
         "yaxis": "y29"
        },
        {
         "marker": {
          "line": {
           "color": "rgb(8,48,107)",
           "width": 1.5
          }
         },
         "opacity": 0.6,
         "showlegend": false,
         "type": "bar",
         "x": [
          6,
          4,
          10,
          2,
          0,
          16,
          14,
          7,
          8,
          25,
          12,
          54,
          18,
          26,
          20,
          56,
          24,
          28,
          5,
          13,
          15,
          22,
          3,
          21,
          1,
          75,
          30,
          19,
          9,
          11,
          38,
          40,
          23,
          17
         ],
         "xaxis": "x30",
         "y": [
          11.774193548387096,
          11.283018867924529,
          11.235294117647058,
          11.907692307692308,
          8.443478260869565,
          9.857142857142858,
          9.333333333333334,
          11.857142857142858,
          10.590909090909092,
          11,
          10.75,
          11,
          8.4,
          6,
          11.5,
          8,
          18,
          9,
          11.6,
          12.666666666666666,
          8.333333333333334,
          8,
          11.5,
          18,
          13,
          9,
          8,
          10,
          13.333333333333334,
          11.666666666666666,
          8,
          11,
          13,
          10
         ],
         "yaxis": "y30"
        }
       ],
       "layout": {
        "annotations": [
         {
          "font": {
           "size": 16
          },
          "showarrow": false,
          "text": "school",
          "x": 0.08399999999999999,
          "xanchor": "center",
          "xref": "paper",
          "y": 0.9999999999999999,
          "yanchor": "bottom",
          "yref": "paper"
         },
         {
          "font": {
           "size": 16
          },
          "showarrow": false,
          "text": "sex",
          "x": 0.292,
          "xanchor": "center",
          "xref": "paper",
          "y": 0.9999999999999999,
          "yanchor": "bottom",
          "yref": "paper"
         },
         {
          "font": {
           "size": 16
          },
          "showarrow": false,
          "text": "age",
          "x": 0.5,
          "xanchor": "center",
          "xref": "paper",
          "y": 0.9999999999999999,
          "yanchor": "bottom",
          "yref": "paper"
         },
         {
          "font": {
           "size": 16
          },
          "showarrow": false,
          "text": "address",
          "x": 0.708,
          "xanchor": "center",
          "xref": "paper",
          "y": 0.9999999999999999,
          "yanchor": "bottom",
          "yref": "paper"
         },
         {
          "font": {
           "size": 16
          },
          "showarrow": false,
          "text": "famsize",
          "x": 0.9159999999999999,
          "xanchor": "center",
          "xref": "paper",
          "y": 0.9999999999999999,
          "yanchor": "bottom",
          "yref": "paper"
         },
         {
          "font": {
           "size": 16
          },
          "showarrow": false,
          "text": "Pstatus",
          "x": 0.08399999999999999,
          "xanchor": "center",
          "xref": "paper",
          "y": 0.8194444444444444,
          "yanchor": "bottom",
          "yref": "paper"
         },
         {
          "font": {
           "size": 16
          },
          "showarrow": false,
          "text": "Medu",
          "x": 0.292,
          "xanchor": "center",
          "xref": "paper",
          "y": 0.8194444444444444,
          "yanchor": "bottom",
          "yref": "paper"
         },
         {
          "font": {
           "size": 16
          },
          "showarrow": false,
          "text": "Fedu",
          "x": 0.5,
          "xanchor": "center",
          "xref": "paper",
          "y": 0.8194444444444444,
          "yanchor": "bottom",
          "yref": "paper"
         },
         {
          "font": {
           "size": 16
          },
          "showarrow": false,
          "text": "Mjob",
          "x": 0.708,
          "xanchor": "center",
          "xref": "paper",
          "y": 0.8194444444444444,
          "yanchor": "bottom",
          "yref": "paper"
         },
         {
          "font": {
           "size": 16
          },
          "showarrow": false,
          "text": "Fjob",
          "x": 0.9159999999999999,
          "xanchor": "center",
          "xref": "paper",
          "y": 0.8194444444444444,
          "yanchor": "bottom",
          "yref": "paper"
         },
         {
          "font": {
           "size": 16
          },
          "showarrow": false,
          "text": "reason",
          "x": 0.08399999999999999,
          "xanchor": "center",
          "xref": "paper",
          "y": 0.638888888888889,
          "yanchor": "bottom",
          "yref": "paper"
         },
         {
          "font": {
           "size": 16
          },
          "showarrow": false,
          "text": "guardian",
          "x": 0.292,
          "xanchor": "center",
          "xref": "paper",
          "y": 0.638888888888889,
          "yanchor": "bottom",
          "yref": "paper"
         },
         {
          "font": {
           "size": 16
          },
          "showarrow": false,
          "text": "traveltime",
          "x": 0.5,
          "xanchor": "center",
          "xref": "paper",
          "y": 0.638888888888889,
          "yanchor": "bottom",
          "yref": "paper"
         },
         {
          "font": {
           "size": 16
          },
          "showarrow": false,
          "text": "studytime",
          "x": 0.708,
          "xanchor": "center",
          "xref": "paper",
          "y": 0.638888888888889,
          "yanchor": "bottom",
          "yref": "paper"
         },
         {
          "font": {
           "size": 16
          },
          "showarrow": false,
          "text": "failures",
          "x": 0.9159999999999999,
          "xanchor": "center",
          "xref": "paper",
          "y": 0.638888888888889,
          "yanchor": "bottom",
          "yref": "paper"
         },
         {
          "font": {
           "size": 16
          },
          "showarrow": false,
          "text": "schoolsup",
          "x": 0.08399999999999999,
          "xanchor": "center",
          "xref": "paper",
          "y": 0.4583333333333333,
          "yanchor": "bottom",
          "yref": "paper"
         },
         {
          "font": {
           "size": 16
          },
          "showarrow": false,
          "text": "famsup",
          "x": 0.292,
          "xanchor": "center",
          "xref": "paper",
          "y": 0.4583333333333333,
          "yanchor": "bottom",
          "yref": "paper"
         },
         {
          "font": {
           "size": 16
          },
          "showarrow": false,
          "text": "paid",
          "x": 0.5,
          "xanchor": "center",
          "xref": "paper",
          "y": 0.4583333333333333,
          "yanchor": "bottom",
          "yref": "paper"
         },
         {
          "font": {
           "size": 16
          },
          "showarrow": false,
          "text": "activities",
          "x": 0.708,
          "xanchor": "center",
          "xref": "paper",
          "y": 0.4583333333333333,
          "yanchor": "bottom",
          "yref": "paper"
         },
         {
          "font": {
           "size": 16
          },
          "showarrow": false,
          "text": "nursery",
          "x": 0.9159999999999999,
          "xanchor": "center",
          "xref": "paper",
          "y": 0.4583333333333333,
          "yanchor": "bottom",
          "yref": "paper"
         },
         {
          "font": {
           "size": 16
          },
          "showarrow": false,
          "text": "higher",
          "x": 0.08399999999999999,
          "xanchor": "center",
          "xref": "paper",
          "y": 0.2777777777777778,
          "yanchor": "bottom",
          "yref": "paper"
         },
         {
          "font": {
           "size": 16
          },
          "showarrow": false,
          "text": "internet",
          "x": 0.292,
          "xanchor": "center",
          "xref": "paper",
          "y": 0.2777777777777778,
          "yanchor": "bottom",
          "yref": "paper"
         },
         {
          "font": {
           "size": 16
          },
          "showarrow": false,
          "text": "romantic",
          "x": 0.5,
          "xanchor": "center",
          "xref": "paper",
          "y": 0.2777777777777778,
          "yanchor": "bottom",
          "yref": "paper"
         },
         {
          "font": {
           "size": 16
          },
          "showarrow": false,
          "text": "famrel",
          "x": 0.708,
          "xanchor": "center",
          "xref": "paper",
          "y": 0.2777777777777778,
          "yanchor": "bottom",
          "yref": "paper"
         },
         {
          "font": {
           "size": 16
          },
          "showarrow": false,
          "text": "freetime",
          "x": 0.9159999999999999,
          "xanchor": "center",
          "xref": "paper",
          "y": 0.2777777777777778,
          "yanchor": "bottom",
          "yref": "paper"
         },
         {
          "font": {
           "size": 16
          },
          "showarrow": false,
          "text": "goout",
          "x": 0.08399999999999999,
          "xanchor": "center",
          "xref": "paper",
          "y": 0.09722222222222222,
          "yanchor": "bottom",
          "yref": "paper"
         },
         {
          "font": {
           "size": 16
          },
          "showarrow": false,
          "text": "Dalc",
          "x": 0.292,
          "xanchor": "center",
          "xref": "paper",
          "y": 0.09722222222222222,
          "yanchor": "bottom",
          "yref": "paper"
         },
         {
          "font": {
           "size": 16
          },
          "showarrow": false,
          "text": "Walc",
          "x": 0.5,
          "xanchor": "center",
          "xref": "paper",
          "y": 0.09722222222222222,
          "yanchor": "bottom",
          "yref": "paper"
         },
         {
          "font": {
           "size": 16
          },
          "showarrow": false,
          "text": "health",
          "x": 0.708,
          "xanchor": "center",
          "xref": "paper",
          "y": 0.09722222222222222,
          "yanchor": "bottom",
          "yref": "paper"
         },
         {
          "font": {
           "size": 16
          },
          "showarrow": false,
          "text": "absences",
          "x": 0.9159999999999999,
          "xanchor": "center",
          "xref": "paper",
          "y": 0.09722222222222222,
          "yanchor": "bottom",
          "yref": "paper"
         }
        ],
        "autosize": true,
        "height": 1000,
        "margin": {
         "b": 100,
         "l": 50,
         "r": 50,
         "t": 100
        },
        "template": {
         "data": {
          "bar": [
           {
            "error_x": {
             "color": "#2a3f5f"
            },
            "error_y": {
             "color": "#2a3f5f"
            },
            "marker": {
             "line": {
              "color": "#E5ECF6",
              "width": 0.5
             }
            },
            "type": "bar"
           }
          ],
          "barpolar": [
           {
            "marker": {
             "line": {
              "color": "#E5ECF6",
              "width": 0.5
             }
            },
            "type": "barpolar"
           }
          ],
          "carpet": [
           {
            "aaxis": {
             "endlinecolor": "#2a3f5f",
             "gridcolor": "white",
             "linecolor": "white",
             "minorgridcolor": "white",
             "startlinecolor": "#2a3f5f"
            },
            "baxis": {
             "endlinecolor": "#2a3f5f",
             "gridcolor": "white",
             "linecolor": "white",
             "minorgridcolor": "white",
             "startlinecolor": "#2a3f5f"
            },
            "type": "carpet"
           }
          ],
          "choropleth": [
           {
            "colorbar": {
             "outlinewidth": 0,
             "ticks": ""
            },
            "type": "choropleth"
           }
          ],
          "contour": [
           {
            "colorbar": {
             "outlinewidth": 0,
             "ticks": ""
            },
            "colorscale": [
             [
              0,
              "#0d0887"
             ],
             [
              0.1111111111111111,
              "#46039f"
             ],
             [
              0.2222222222222222,
              "#7201a8"
             ],
             [
              0.3333333333333333,
              "#9c179e"
             ],
             [
              0.4444444444444444,
              "#bd3786"
             ],
             [
              0.5555555555555556,
              "#d8576b"
             ],
             [
              0.6666666666666666,
              "#ed7953"
             ],
             [
              0.7777777777777778,
              "#fb9f3a"
             ],
             [
              0.8888888888888888,
              "#fdca26"
             ],
             [
              1,
              "#f0f921"
             ]
            ],
            "type": "contour"
           }
          ],
          "contourcarpet": [
           {
            "colorbar": {
             "outlinewidth": 0,
             "ticks": ""
            },
            "type": "contourcarpet"
           }
          ],
          "heatmap": [
           {
            "colorbar": {
             "outlinewidth": 0,
             "ticks": ""
            },
            "colorscale": [
             [
              0,
              "#0d0887"
             ],
             [
              0.1111111111111111,
              "#46039f"
             ],
             [
              0.2222222222222222,
              "#7201a8"
             ],
             [
              0.3333333333333333,
              "#9c179e"
             ],
             [
              0.4444444444444444,
              "#bd3786"
             ],
             [
              0.5555555555555556,
              "#d8576b"
             ],
             [
              0.6666666666666666,
              "#ed7953"
             ],
             [
              0.7777777777777778,
              "#fb9f3a"
             ],
             [
              0.8888888888888888,
              "#fdca26"
             ],
             [
              1,
              "#f0f921"
             ]
            ],
            "type": "heatmap"
           }
          ],
          "heatmapgl": [
           {
            "colorbar": {
             "outlinewidth": 0,
             "ticks": ""
            },
            "colorscale": [
             [
              0,
              "#0d0887"
             ],
             [
              0.1111111111111111,
              "#46039f"
             ],
             [
              0.2222222222222222,
              "#7201a8"
             ],
             [
              0.3333333333333333,
              "#9c179e"
             ],
             [
              0.4444444444444444,
              "#bd3786"
             ],
             [
              0.5555555555555556,
              "#d8576b"
             ],
             [
              0.6666666666666666,
              "#ed7953"
             ],
             [
              0.7777777777777778,
              "#fb9f3a"
             ],
             [
              0.8888888888888888,
              "#fdca26"
             ],
             [
              1,
              "#f0f921"
             ]
            ],
            "type": "heatmapgl"
           }
          ],
          "histogram": [
           {
            "marker": {
             "colorbar": {
              "outlinewidth": 0,
              "ticks": ""
             }
            },
            "type": "histogram"
           }
          ],
          "histogram2d": [
           {
            "colorbar": {
             "outlinewidth": 0,
             "ticks": ""
            },
            "colorscale": [
             [
              0,
              "#0d0887"
             ],
             [
              0.1111111111111111,
              "#46039f"
             ],
             [
              0.2222222222222222,
              "#7201a8"
             ],
             [
              0.3333333333333333,
              "#9c179e"
             ],
             [
              0.4444444444444444,
              "#bd3786"
             ],
             [
              0.5555555555555556,
              "#d8576b"
             ],
             [
              0.6666666666666666,
              "#ed7953"
             ],
             [
              0.7777777777777778,
              "#fb9f3a"
             ],
             [
              0.8888888888888888,
              "#fdca26"
             ],
             [
              1,
              "#f0f921"
             ]
            ],
            "type": "histogram2d"
           }
          ],
          "histogram2dcontour": [
           {
            "colorbar": {
             "outlinewidth": 0,
             "ticks": ""
            },
            "colorscale": [
             [
              0,
              "#0d0887"
             ],
             [
              0.1111111111111111,
              "#46039f"
             ],
             [
              0.2222222222222222,
              "#7201a8"
             ],
             [
              0.3333333333333333,
              "#9c179e"
             ],
             [
              0.4444444444444444,
              "#bd3786"
             ],
             [
              0.5555555555555556,
              "#d8576b"
             ],
             [
              0.6666666666666666,
              "#ed7953"
             ],
             [
              0.7777777777777778,
              "#fb9f3a"
             ],
             [
              0.8888888888888888,
              "#fdca26"
             ],
             [
              1,
              "#f0f921"
             ]
            ],
            "type": "histogram2dcontour"
           }
          ],
          "mesh3d": [
           {
            "colorbar": {
             "outlinewidth": 0,
             "ticks": ""
            },
            "type": "mesh3d"
           }
          ],
          "parcoords": [
           {
            "line": {
             "colorbar": {
              "outlinewidth": 0,
              "ticks": ""
             }
            },
            "type": "parcoords"
           }
          ],
          "pie": [
           {
            "automargin": true,
            "type": "pie"
           }
          ],
          "scatter": [
           {
            "marker": {
             "colorbar": {
              "outlinewidth": 0,
              "ticks": ""
             }
            },
            "type": "scatter"
           }
          ],
          "scatter3d": [
           {
            "line": {
             "colorbar": {
              "outlinewidth": 0,
              "ticks": ""
             }
            },
            "marker": {
             "colorbar": {
              "outlinewidth": 0,
              "ticks": ""
             }
            },
            "type": "scatter3d"
           }
          ],
          "scattercarpet": [
           {
            "marker": {
             "colorbar": {
              "outlinewidth": 0,
              "ticks": ""
             }
            },
            "type": "scattercarpet"
           }
          ],
          "scattergeo": [
           {
            "marker": {
             "colorbar": {
              "outlinewidth": 0,
              "ticks": ""
             }
            },
            "type": "scattergeo"
           }
          ],
          "scattergl": [
           {
            "marker": {
             "colorbar": {
              "outlinewidth": 0,
              "ticks": ""
             }
            },
            "type": "scattergl"
           }
          ],
          "scattermapbox": [
           {
            "marker": {
             "colorbar": {
              "outlinewidth": 0,
              "ticks": ""
             }
            },
            "type": "scattermapbox"
           }
          ],
          "scatterpolar": [
           {
            "marker": {
             "colorbar": {
              "outlinewidth": 0,
              "ticks": ""
             }
            },
            "type": "scatterpolar"
           }
          ],
          "scatterpolargl": [
           {
            "marker": {
             "colorbar": {
              "outlinewidth": 0,
              "ticks": ""
             }
            },
            "type": "scatterpolargl"
           }
          ],
          "scatterternary": [
           {
            "marker": {
             "colorbar": {
              "outlinewidth": 0,
              "ticks": ""
             }
            },
            "type": "scatterternary"
           }
          ],
          "surface": [
           {
            "colorbar": {
             "outlinewidth": 0,
             "ticks": ""
            },
            "colorscale": [
             [
              0,
              "#0d0887"
             ],
             [
              0.1111111111111111,
              "#46039f"
             ],
             [
              0.2222222222222222,
              "#7201a8"
             ],
             [
              0.3333333333333333,
              "#9c179e"
             ],
             [
              0.4444444444444444,
              "#bd3786"
             ],
             [
              0.5555555555555556,
              "#d8576b"
             ],
             [
              0.6666666666666666,
              "#ed7953"
             ],
             [
              0.7777777777777778,
              "#fb9f3a"
             ],
             [
              0.8888888888888888,
              "#fdca26"
             ],
             [
              1,
              "#f0f921"
             ]
            ],
            "type": "surface"
           }
          ],
          "table": [
           {
            "cells": {
             "fill": {
              "color": "#EBF0F8"
             },
             "line": {
              "color": "white"
             }
            },
            "header": {
             "fill": {
              "color": "#C8D4E3"
             },
             "line": {
              "color": "white"
             }
            },
            "type": "table"
           }
          ]
         },
         "layout": {
          "annotationdefaults": {
           "arrowcolor": "#2a3f5f",
           "arrowhead": 0,
           "arrowwidth": 1
          },
          "coloraxis": {
           "colorbar": {
            "outlinewidth": 0,
            "ticks": ""
           }
          },
          "colorscale": {
           "diverging": [
            [
             0,
             "#8e0152"
            ],
            [
             0.1,
             "#c51b7d"
            ],
            [
             0.2,
             "#de77ae"
            ],
            [
             0.3,
             "#f1b6da"
            ],
            [
             0.4,
             "#fde0ef"
            ],
            [
             0.5,
             "#f7f7f7"
            ],
            [
             0.6,
             "#e6f5d0"
            ],
            [
             0.7,
             "#b8e186"
            ],
            [
             0.8,
             "#7fbc41"
            ],
            [
             0.9,
             "#4d9221"
            ],
            [
             1,
             "#276419"
            ]
           ],
           "sequential": [
            [
             0,
             "#0d0887"
            ],
            [
             0.1111111111111111,
             "#46039f"
            ],
            [
             0.2222222222222222,
             "#7201a8"
            ],
            [
             0.3333333333333333,
             "#9c179e"
            ],
            [
             0.4444444444444444,
             "#bd3786"
            ],
            [
             0.5555555555555556,
             "#d8576b"
            ],
            [
             0.6666666666666666,
             "#ed7953"
            ],
            [
             0.7777777777777778,
             "#fb9f3a"
            ],
            [
             0.8888888888888888,
             "#fdca26"
            ],
            [
             1,
             "#f0f921"
            ]
           ],
           "sequentialminus": [
            [
             0,
             "#0d0887"
            ],
            [
             0.1111111111111111,
             "#46039f"
            ],
            [
             0.2222222222222222,
             "#7201a8"
            ],
            [
             0.3333333333333333,
             "#9c179e"
            ],
            [
             0.4444444444444444,
             "#bd3786"
            ],
            [
             0.5555555555555556,
             "#d8576b"
            ],
            [
             0.6666666666666666,
             "#ed7953"
            ],
            [
             0.7777777777777778,
             "#fb9f3a"
            ],
            [
             0.8888888888888888,
             "#fdca26"
            ],
            [
             1,
             "#f0f921"
            ]
           ]
          },
          "colorway": [
           "#636efa",
           "#EF553B",
           "#00cc96",
           "#ab63fa",
           "#FFA15A",
           "#19d3f3",
           "#FF6692",
           "#B6E880",
           "#FF97FF",
           "#FECB52"
          ],
          "font": {
           "color": "#2a3f5f"
          },
          "geo": {
           "bgcolor": "white",
           "lakecolor": "white",
           "landcolor": "#E5ECF6",
           "showlakes": true,
           "showland": true,
           "subunitcolor": "white"
          },
          "hoverlabel": {
           "align": "left"
          },
          "hovermode": "closest",
          "mapbox": {
           "style": "light"
          },
          "paper_bgcolor": "white",
          "plot_bgcolor": "#E5ECF6",
          "polar": {
           "angularaxis": {
            "gridcolor": "white",
            "linecolor": "white",
            "ticks": ""
           },
           "bgcolor": "#E5ECF6",
           "radialaxis": {
            "gridcolor": "white",
            "linecolor": "white",
            "ticks": ""
           }
          },
          "scene": {
           "xaxis": {
            "backgroundcolor": "#E5ECF6",
            "gridcolor": "white",
            "gridwidth": 2,
            "linecolor": "white",
            "showbackground": true,
            "ticks": "",
            "zerolinecolor": "white"
           },
           "yaxis": {
            "backgroundcolor": "#E5ECF6",
            "gridcolor": "white",
            "gridwidth": 2,
            "linecolor": "white",
            "showbackground": true,
            "ticks": "",
            "zerolinecolor": "white"
           },
           "zaxis": {
            "backgroundcolor": "#E5ECF6",
            "gridcolor": "white",
            "gridwidth": 2,
            "linecolor": "white",
            "showbackground": true,
            "ticks": "",
            "zerolinecolor": "white"
           }
          },
          "shapedefaults": {
           "line": {
            "color": "#2a3f5f"
           }
          },
          "ternary": {
           "aaxis": {
            "gridcolor": "white",
            "linecolor": "white",
            "ticks": ""
           },
           "baxis": {
            "gridcolor": "white",
            "linecolor": "white",
            "ticks": ""
           },
           "bgcolor": "#E5ECF6",
           "caxis": {
            "gridcolor": "white",
            "linecolor": "white",
            "ticks": ""
           }
          },
          "title": {
           "x": 0.05
          },
          "xaxis": {
           "automargin": true,
           "gridcolor": "white",
           "linecolor": "white",
           "ticks": "",
           "title": {
            "standoff": 15
           },
           "zerolinecolor": "white",
           "zerolinewidth": 2
          },
          "yaxis": {
           "automargin": true,
           "gridcolor": "white",
           "linecolor": "white",
           "ticks": "",
           "title": {
            "standoff": 15
           },
           "zerolinecolor": "white",
           "zerolinewidth": 2
          }
         }
        },
        "title": {
         "text": "Mean G3 scores for unique values of each variable"
        },
        "width": 1000,
        "xaxis": {
         "anchor": "y",
         "domain": [
          0,
          0.16799999999999998
         ]
        },
        "xaxis10": {
         "anchor": "y10",
         "domain": [
          0.832,
          1
         ]
        },
        "xaxis11": {
         "anchor": "y11",
         "domain": [
          0,
          0.16799999999999998
         ]
        },
        "xaxis12": {
         "anchor": "y12",
         "domain": [
          0.208,
          0.376
         ]
        },
        "xaxis13": {
         "anchor": "y13",
         "domain": [
          0.416,
          0.584
         ]
        },
        "xaxis14": {
         "anchor": "y14",
         "domain": [
          0.624,
          0.792
         ]
        },
        "xaxis15": {
         "anchor": "y15",
         "domain": [
          0.832,
          1
         ]
        },
        "xaxis16": {
         "anchor": "y16",
         "domain": [
          0,
          0.16799999999999998
         ]
        },
        "xaxis17": {
         "anchor": "y17",
         "domain": [
          0.208,
          0.376
         ]
        },
        "xaxis18": {
         "anchor": "y18",
         "domain": [
          0.416,
          0.584
         ]
        },
        "xaxis19": {
         "anchor": "y19",
         "domain": [
          0.624,
          0.792
         ]
        },
        "xaxis2": {
         "anchor": "y2",
         "domain": [
          0.208,
          0.376
         ]
        },
        "xaxis20": {
         "anchor": "y20",
         "domain": [
          0.832,
          1
         ]
        },
        "xaxis21": {
         "anchor": "y21",
         "domain": [
          0,
          0.16799999999999998
         ]
        },
        "xaxis22": {
         "anchor": "y22",
         "domain": [
          0.208,
          0.376
         ]
        },
        "xaxis23": {
         "anchor": "y23",
         "domain": [
          0.416,
          0.584
         ]
        },
        "xaxis24": {
         "anchor": "y24",
         "domain": [
          0.624,
          0.792
         ]
        },
        "xaxis25": {
         "anchor": "y25",
         "domain": [
          0.832,
          1
         ]
        },
        "xaxis26": {
         "anchor": "y26",
         "domain": [
          0,
          0.16799999999999998
         ]
        },
        "xaxis27": {
         "anchor": "y27",
         "domain": [
          0.208,
          0.376
         ]
        },
        "xaxis28": {
         "anchor": "y28",
         "domain": [
          0.416,
          0.584
         ]
        },
        "xaxis29": {
         "anchor": "y29",
         "domain": [
          0.624,
          0.792
         ]
        },
        "xaxis3": {
         "anchor": "y3",
         "domain": [
          0.416,
          0.584
         ]
        },
        "xaxis30": {
         "anchor": "y30",
         "domain": [
          0.832,
          1
         ]
        },
        "xaxis4": {
         "anchor": "y4",
         "domain": [
          0.624,
          0.792
         ]
        },
        "xaxis5": {
         "anchor": "y5",
         "domain": [
          0.832,
          1
         ]
        },
        "xaxis6": {
         "anchor": "y6",
         "domain": [
          0,
          0.16799999999999998
         ]
        },
        "xaxis7": {
         "anchor": "y7",
         "domain": [
          0.208,
          0.376
         ]
        },
        "xaxis8": {
         "anchor": "y8",
         "domain": [
          0.416,
          0.584
         ]
        },
        "xaxis9": {
         "anchor": "y9",
         "domain": [
          0.624,
          0.792
         ]
        },
        "yaxis": {
         "anchor": "x",
         "domain": [
          0.9027777777777777,
          0.9999999999999999
         ]
        },
        "yaxis10": {
         "anchor": "x10",
         "domain": [
          0.7222222222222222,
          0.8194444444444444
         ]
        },
        "yaxis11": {
         "anchor": "x11",
         "domain": [
          0.5416666666666667,
          0.638888888888889
         ]
        },
        "yaxis12": {
         "anchor": "x12",
         "domain": [
          0.5416666666666667,
          0.638888888888889
         ]
        },
        "yaxis13": {
         "anchor": "x13",
         "domain": [
          0.5416666666666667,
          0.638888888888889
         ]
        },
        "yaxis14": {
         "anchor": "x14",
         "domain": [
          0.5416666666666667,
          0.638888888888889
         ]
        },
        "yaxis15": {
         "anchor": "x15",
         "domain": [
          0.5416666666666667,
          0.638888888888889
         ]
        },
        "yaxis16": {
         "anchor": "x16",
         "domain": [
          0.3611111111111111,
          0.4583333333333333
         ]
        },
        "yaxis17": {
         "anchor": "x17",
         "domain": [
          0.3611111111111111,
          0.4583333333333333
         ]
        },
        "yaxis18": {
         "anchor": "x18",
         "domain": [
          0.3611111111111111,
          0.4583333333333333
         ]
        },
        "yaxis19": {
         "anchor": "x19",
         "domain": [
          0.3611111111111111,
          0.4583333333333333
         ]
        },
        "yaxis2": {
         "anchor": "x2",
         "domain": [
          0.9027777777777777,
          0.9999999999999999
         ]
        },
        "yaxis20": {
         "anchor": "x20",
         "domain": [
          0.3611111111111111,
          0.4583333333333333
         ]
        },
        "yaxis21": {
         "anchor": "x21",
         "domain": [
          0.18055555555555555,
          0.2777777777777778
         ]
        },
        "yaxis22": {
         "anchor": "x22",
         "domain": [
          0.18055555555555555,
          0.2777777777777778
         ]
        },
        "yaxis23": {
         "anchor": "x23",
         "domain": [
          0.18055555555555555,
          0.2777777777777778
         ]
        },
        "yaxis24": {
         "anchor": "x24",
         "domain": [
          0.18055555555555555,
          0.2777777777777778
         ]
        },
        "yaxis25": {
         "anchor": "x25",
         "domain": [
          0.18055555555555555,
          0.2777777777777778
         ]
        },
        "yaxis26": {
         "anchor": "x26",
         "domain": [
          0,
          0.09722222222222222
         ]
        },
        "yaxis27": {
         "anchor": "x27",
         "domain": [
          0,
          0.09722222222222222
         ]
        },
        "yaxis28": {
         "anchor": "x28",
         "domain": [
          0,
          0.09722222222222222
         ]
        },
        "yaxis29": {
         "anchor": "x29",
         "domain": [
          0,
          0.09722222222222222
         ]
        },
        "yaxis3": {
         "anchor": "x3",
         "domain": [
          0.9027777777777777,
          0.9999999999999999
         ]
        },
        "yaxis30": {
         "anchor": "x30",
         "domain": [
          0,
          0.09722222222222222
         ]
        },
        "yaxis4": {
         "anchor": "x4",
         "domain": [
          0.9027777777777777,
          0.9999999999999999
         ]
        },
        "yaxis5": {
         "anchor": "x5",
         "domain": [
          0.9027777777777777,
          0.9999999999999999
         ]
        },
        "yaxis6": {
         "anchor": "x6",
         "domain": [
          0.7222222222222222,
          0.8194444444444444
         ]
        },
        "yaxis7": {
         "anchor": "x7",
         "domain": [
          0.7222222222222222,
          0.8194444444444444
         ]
        },
        "yaxis8": {
         "anchor": "x8",
         "domain": [
          0.7222222222222222,
          0.8194444444444444
         ]
        },
        "yaxis9": {
         "anchor": "x9",
         "domain": [
          0.7222222222222222,
          0.8194444444444444
         ]
        }
       }
      }
     },
     "metadata": {}
    }
   ],
   "source": [
    "def get_mean_G3_score_set(data, feature):\n",
    "    result = [];\n",
    "    for value in data[feature].unique():\n",
    "        feature_has_value = data[feature]==value\n",
    "        data_with_feature_val = data[feature_has_value]\n",
    "        result.append(data_with_feature_val[\"G3\"].mean())\n",
    "    return result\n",
    "\n",
    "fig = make_subplots(\n",
    "    rows=6, cols=5,\n",
    "    subplot_titles=all_features)\n",
    "\n",
    "for i in range(len(all_features)):\n",
    "    feature = all_features[i]\n",
    "    fig.append_trace(\n",
    "        go.Bar(\n",
    "            x=data[feature].unique(),\n",
    "            y=get_mean_G3_score_set(data, feature),\n",
    "            showlegend=False,\n",
    "        ),\n",
    "        row = i // 5 + 1,\n",
    "        col = i % 5 + 1\n",
    "    )\n",
    "\n",
    "fig.update_layout(\n",
    "    autosize=True,\n",
    "    width=1000,\n",
    "    height=1000,\n",
    "    title_text=\"Mean G3 scores for unique values of each variable\",\n",
    "    margin=dict(l=50, r=50, t=100, b=100),\n",
    ")\n",
    "\n",
    "fig.update_traces(marker_line_color='rgb(8,48,107)',\n",
    "                  marker_line_width=1.5, opacity=0.6)\n",
    "\n",
    "fig.show()"
   ]
  },
  {
   "cell_type": "markdown",
   "metadata": {},
   "source": [
    "From a frequentist perspective, these subplots give us a good idea of the maximum likelihood estimation of `G3` for each given value of the feature variables.  However, it is important here to note that we must also take into account the histogram values when making inferences from this chart. Certain feature values which only account for a very small sample number of students will be more sensitive to outliers when attempting to calculate the mean. \n",
    "\n",
    "**Trends**\n",
    "\n",
    "- `sex` : Male students tend to perform slightly better in the test\n",
    "- `age` : Older students tend to have lower `G3` scored, with the exception of some outliers for in the age category of 20 \n",
    "- `address` : Those who live in urban environments (`U`) tend to perform better\n",
    "- `famsize` : Students with a smaller family size (`LT3`) have higher `G3` scores\n",
    "- `Medu` and `Fedu` : Parental education levels are correlated with higher `G3` scores\n",
    "- `guardian` : Students with non-parental guardians have lower `G3` scores\n",
    "- `traveltime` : Longer travel times are correlated with lower `G3` scores\n",
    "- `studytime` : More time spent studying is correlated to a higher `G3` score\n",
    "- `failures` : Having more past failures is correlated to lower `G3` scores\n",
    "- `schoolsup` : Students having school support have lower `G3` scores\n",
    "- `paid` : Students taking paid classes have higher `G3` scores\n",
    "- `higher` : Students taking who intend to pursue higher education have higher `G3` scores\n",
    "- `romantic` : Students involved in romantic relationships have lower `G3` scores\n",
    "- `goout` : Students who go out moderately often the highest `G3` scores. Otherwise\n",
    "\n",
    "\n",
    "**Significant factors**\n",
    "\n",
    "Given the trends observed in the data, we classify features according to their significance in predicting `G3`. We will go on to assess the reasoning behind this in the later sections\n",
    "\n",
    "|Significant | Non-significant|\n",
    "|:---:|:---:|\n",
    "|`sex`, `age`, `address`,  `famsize`, `Medu`, `Fedu`, `guardian`, `traveltime`, `studytime`, `failures`, `schoolsup`, `paid`, `higher`, `romantic`, `goout`, |`school`, `Pstatus`, `Mjob`, `Fjob`, `reason`, `famsup`, `activities`,`nursery`, `internet`, `famrel`, `freetime`, `Dalc`, `Walc`, `health`, `absences`|"
   ]
  },
  {
   "cell_type": "markdown",
   "metadata": {},
   "source": [
    "We can use a heatmap to get a broad overview of any correlations between different variables, including categorical variables which have been converted to binary representation.\n",
    "\n",
    "This will help to further refine the variables we have identified and minimise redudancy, by eliminating features which are highly correlated. "
   ]
  },
  {
   "cell_type": "markdown",
   "metadata": {},
   "source": [
    "We first create a new feature, `guardian_bin`, which determines whether the student has parental guardians (1) or not (0)"
   ]
  },
  {
   "cell_type": "code",
   "execution_count": 12,
   "metadata": {},
   "outputs": [],
   "source": [
    "data[\"guardian_bin\"] = data[\"guardian\"].apply(lambda x : 1 if x != \"other\" else 0)"
   ]
  },
  {
   "cell_type": "code",
   "execution_count": 13,
   "metadata": {},
   "outputs": [
    {
     "output_type": "display_data",
     "data": {
      "application/vnd.plotly.v1+json": {
       "config": {
        "plotlyServerURL": "https://plot.ly"
       },
       "data": [
        {
         "colorscale": [
          [
           0,
           "rgb(103,0,31)"
          ],
          [
           0.1,
           "rgb(178,24,43)"
          ],
          [
           0.2,
           "rgb(214,96,77)"
          ],
          [
           0.3,
           "rgb(244,165,130)"
          ],
          [
           0.4,
           "rgb(253,219,199)"
          ],
          [
           0.5,
           "rgb(247,247,247)"
          ],
          [
           0.6,
           "rgb(209,229,240)"
          ],
          [
           0.7,
           "rgb(146,197,222)"
          ],
          [
           0.8,
           "rgb(67,147,195)"
          ],
          [
           0.9,
           "rgb(33,102,172)"
          ],
          [
           1,
           "rgb(5,48,97)"
          ]
         ],
         "type": "heatmap",
         "x": [
          "sex_bin",
          "age",
          "address_bin",
          "famsize_bin",
          "Medu",
          "Fedu",
          "guardian_bin",
          "traveltime",
          "studytime",
          "failures",
          "schoolsup_bin",
          "paid_bin",
          "higher_bin",
          "romantic_bin",
          "goout"
         ],
         "y": [
          "sex_bin",
          "age",
          "address_bin",
          "famsize_bin",
          "Medu",
          "Fedu",
          "guardian_bin",
          "traveltime",
          "studytime",
          "failures",
          "schoolsup_bin",
          "paid_bin",
          "higher_bin",
          "romantic_bin",
          "goout"
         ],
         "z": [
          [
           1,
           -0.028605793211746725,
           -0.02850420788070452,
           -0.08986180179668112,
           0.07822789145089806,
           0.03487830555859468,
           0.05852475548856482,
           0.059721778028921396,
           -0.3062676175682077,
           0.04443588112803821,
           -0.13827095472884346,
           -0.12912561930261124,
           -0.1510555211332236,
           -0.10202300938578712,
           0.07589739596341279
          ],
          [
           -0.028605793211746725,
           1,
           -0.1467223547809877,
           -0.037847475709363324,
           -0.1636584189328157,
           -0.16343806892527848,
           -0.39839608659431236,
           0.07064072116452584,
           -0.00414003681618644,
           0.24366537664172075,
           -0.2518108925243999,
           -0.03593287357584212,
           -0.2090808065889482,
           0.16466875362210137,
           0.12696387964294564
          ],
          [
           -0.02850420788070452,
           -0.1467223547809877,
           1,
           -0.07247214088599936,
           0.1388040828707698,
           0.07217845044652858,
           -0.02517653931786896,
           -0.3280955044457585,
           -0.02091215191518059,
           -0.0785775116823814,
           0.024711974236421057,
           0.052799665166794005,
           0.042853734982086965,
           0.005257151738736882,
           0.06883481023174065
          ],
          [
           -0.08986180179668112,
           -0.037847475709363324,
           -0.07247214088599936,
           1,
           0.043067780552009646,
           0.058879133833132986,
           -0.025297985231374127,
           -0.06349338255353053,
           0.07359486076088777,
           0.01576917386519393,
           0.028641771740533895,
           0.013882161719740427,
           0.005806391192913967,
           -0.034394816155341255,
           -0.023064384264178717
          ],
          [
           0.07822789145089806,
           -0.1636584189328157,
           0.1388040828707698,
           0.043067780552009646,
           1,
           0.6234551120806447,
           0.11863487652049497,
           -0.1716393046970283,
           0.06494413671030143,
           -0.23667996261654373,
           -0.0360294775301413,
           0.15970038116357746,
           0.1688445337447593,
           0.03968061190054621,
           0.06409443819310287
          ],
          [
           0.03487830555859468,
           -0.16343806892527848,
           0.07217845044652858,
           0.058879133833132986,
           0.6234551120806447,
           1,
           0.09125030592886241,
           -0.15819405415710008,
           -0.009174638901949155,
           -0.25040844445677607,
           0.037529649429853554,
           0.08698141634528318,
           0.17456552021164773,
           0.015602498423325402,
           0.043104668369493636
          ],
          [
           0.05852475548856482,
           -0.39839608659431236,
           -0.02517653931786896,
           -0.025297985231374127,
           0.11863487652049497,
           0.09125030592886241,
           1,
           -0.04875803109595552,
           -0.03172379334132418,
           -0.2911567475266955,
           0.05898199805543309,
           0.012351702293024314,
           0.01607060866333075,
           -0.12404537775885369,
           0.012379952001256469
          ],
          [
           0.059721778028921396,
           0.07064072116452584,
           -0.3280955044457585,
           -0.06349338255353053,
           -0.1716393046970283,
           -0.15819405415710008,
           -0.04875803109595552,
           1,
           -0.10090911928397557,
           0.09223874620951114,
           -0.00924638047940194,
           -0.06642023876188205,
           -0.08350810208230466,
           0.021962396072014303,
           0.028539674106724765
          ],
          [
           -0.3062676175682077,
           -0.00414003681618644,
           -0.02091215191518059,
           0.07359486076088777,
           0.06494413671030143,
           -0.009174638901949155,
           -0.03172379334132418,
           -0.10090911928397557,
           1,
           -0.17356303141597634,
           0.037762697531750176,
           0.1672198799734358,
           0.1750814248594865,
           0.053284617324972174,
           -0.06390367501441144
          ],
          [
           0.04443588112803821,
           0.24366537664172075,
           -0.0785775116823814,
           0.01576917386519393,
           -0.23667996261654373,
           -0.25040844445677607,
           -0.2911567475266955,
           0.09223874620951114,
           -0.17356303141597634,
           1,
           -0.0004374906768834276,
           -0.18803896588299884,
           -0.3003157412759585,
           0.09313704346353671,
           0.12456092193402708
          ],
          [
           -0.13827095472884346,
           -0.2518108925243999,
           0.024711974236421057,
           0.028641771740533895,
           -0.0360294775301413,
           0.037529649429853554,
           0.05898199805543309,
           -0.00924638047940194,
           0.037762697531750176,
           -0.0004374906768834276,
           1,
           -0.020753281725888067,
           0.05448601885061888,
           -0.08071610282354254,
           -0.03769849120077191
          ],
          [
           -0.12912561930261124,
           -0.03593287357584212,
           0.052799665166794005,
           0.013882161719740427,
           0.15970038116357746,
           0.08698141634528318,
           0.012351702293024314,
           -0.06642023876188205,
           0.1672198799734358,
           -0.18803896588299884,
           -0.020753281725888067,
           1,
           0.18921384591441343,
           0.005535859050709529,
           0.010493267867462743
          ],
          [
           -0.1510555211332236,
           -0.2090808065889482,
           0.042853734982086965,
           0.005806391192913967,
           0.1688445337447593,
           0.17456552021164773,
           0.01607060866333075,
           -0.08350810208230466,
           0.1750814248594865,
           -0.3003157412759585,
           0.05448601885061888,
           0.18921384591441343,
           1,
           -0.10566445364376834,
           -0.03970049869222064
          ],
          [
           -0.10202300938578712,
           0.16466875362210137,
           0.005257151738736882,
           -0.034394816155341255,
           0.03968061190054621,
           0.015602498423325402,
           -0.12404537775885369,
           0.021962396072014303,
           0.053284617324972174,
           0.09313704346353671,
           -0.08071610282354254,
           0.005535859050709529,
           -0.10566445364376834,
           1,
           0.007869926458162925
          ],
          [
           0.07589739596341279,
           0.12696387964294564,
           0.06883481023174065,
           -0.023064384264178717,
           0.06409443819310287,
           0.043104668369493636,
           0.012379952001256469,
           0.028539674106724765,
           -0.06390367501441144,
           0.12456092193402708,
           -0.03769849120077191,
           0.010493267867462743,
           -0.03970049869222064,
           0.007869926458162925,
           1
          ]
         ],
         "zmax": 1,
         "zmin": -1
        }
       ],
       "layout": {
        "autosize": true,
        "height": 1000,
        "margin": {
         "b": 100,
         "l": 50,
         "r": 50,
         "t": 100
        },
        "template": {
         "data": {
          "bar": [
           {
            "error_x": {
             "color": "#2a3f5f"
            },
            "error_y": {
             "color": "#2a3f5f"
            },
            "marker": {
             "line": {
              "color": "#E5ECF6",
              "width": 0.5
             }
            },
            "type": "bar"
           }
          ],
          "barpolar": [
           {
            "marker": {
             "line": {
              "color": "#E5ECF6",
              "width": 0.5
             }
            },
            "type": "barpolar"
           }
          ],
          "carpet": [
           {
            "aaxis": {
             "endlinecolor": "#2a3f5f",
             "gridcolor": "white",
             "linecolor": "white",
             "minorgridcolor": "white",
             "startlinecolor": "#2a3f5f"
            },
            "baxis": {
             "endlinecolor": "#2a3f5f",
             "gridcolor": "white",
             "linecolor": "white",
             "minorgridcolor": "white",
             "startlinecolor": "#2a3f5f"
            },
            "type": "carpet"
           }
          ],
          "choropleth": [
           {
            "colorbar": {
             "outlinewidth": 0,
             "ticks": ""
            },
            "type": "choropleth"
           }
          ],
          "contour": [
           {
            "colorbar": {
             "outlinewidth": 0,
             "ticks": ""
            },
            "colorscale": [
             [
              0,
              "#0d0887"
             ],
             [
              0.1111111111111111,
              "#46039f"
             ],
             [
              0.2222222222222222,
              "#7201a8"
             ],
             [
              0.3333333333333333,
              "#9c179e"
             ],
             [
              0.4444444444444444,
              "#bd3786"
             ],
             [
              0.5555555555555556,
              "#d8576b"
             ],
             [
              0.6666666666666666,
              "#ed7953"
             ],
             [
              0.7777777777777778,
              "#fb9f3a"
             ],
             [
              0.8888888888888888,
              "#fdca26"
             ],
             [
              1,
              "#f0f921"
             ]
            ],
            "type": "contour"
           }
          ],
          "contourcarpet": [
           {
            "colorbar": {
             "outlinewidth": 0,
             "ticks": ""
            },
            "type": "contourcarpet"
           }
          ],
          "heatmap": [
           {
            "colorbar": {
             "outlinewidth": 0,
             "ticks": ""
            },
            "colorscale": [
             [
              0,
              "#0d0887"
             ],
             [
              0.1111111111111111,
              "#46039f"
             ],
             [
              0.2222222222222222,
              "#7201a8"
             ],
             [
              0.3333333333333333,
              "#9c179e"
             ],
             [
              0.4444444444444444,
              "#bd3786"
             ],
             [
              0.5555555555555556,
              "#d8576b"
             ],
             [
              0.6666666666666666,
              "#ed7953"
             ],
             [
              0.7777777777777778,
              "#fb9f3a"
             ],
             [
              0.8888888888888888,
              "#fdca26"
             ],
             [
              1,
              "#f0f921"
             ]
            ],
            "type": "heatmap"
           }
          ],
          "heatmapgl": [
           {
            "colorbar": {
             "outlinewidth": 0,
             "ticks": ""
            },
            "colorscale": [
             [
              0,
              "#0d0887"
             ],
             [
              0.1111111111111111,
              "#46039f"
             ],
             [
              0.2222222222222222,
              "#7201a8"
             ],
             [
              0.3333333333333333,
              "#9c179e"
             ],
             [
              0.4444444444444444,
              "#bd3786"
             ],
             [
              0.5555555555555556,
              "#d8576b"
             ],
             [
              0.6666666666666666,
              "#ed7953"
             ],
             [
              0.7777777777777778,
              "#fb9f3a"
             ],
             [
              0.8888888888888888,
              "#fdca26"
             ],
             [
              1,
              "#f0f921"
             ]
            ],
            "type": "heatmapgl"
           }
          ],
          "histogram": [
           {
            "marker": {
             "colorbar": {
              "outlinewidth": 0,
              "ticks": ""
             }
            },
            "type": "histogram"
           }
          ],
          "histogram2d": [
           {
            "colorbar": {
             "outlinewidth": 0,
             "ticks": ""
            },
            "colorscale": [
             [
              0,
              "#0d0887"
             ],
             [
              0.1111111111111111,
              "#46039f"
             ],
             [
              0.2222222222222222,
              "#7201a8"
             ],
             [
              0.3333333333333333,
              "#9c179e"
             ],
             [
              0.4444444444444444,
              "#bd3786"
             ],
             [
              0.5555555555555556,
              "#d8576b"
             ],
             [
              0.6666666666666666,
              "#ed7953"
             ],
             [
              0.7777777777777778,
              "#fb9f3a"
             ],
             [
              0.8888888888888888,
              "#fdca26"
             ],
             [
              1,
              "#f0f921"
             ]
            ],
            "type": "histogram2d"
           }
          ],
          "histogram2dcontour": [
           {
            "colorbar": {
             "outlinewidth": 0,
             "ticks": ""
            },
            "colorscale": [
             [
              0,
              "#0d0887"
             ],
             [
              0.1111111111111111,
              "#46039f"
             ],
             [
              0.2222222222222222,
              "#7201a8"
             ],
             [
              0.3333333333333333,
              "#9c179e"
             ],
             [
              0.4444444444444444,
              "#bd3786"
             ],
             [
              0.5555555555555556,
              "#d8576b"
             ],
             [
              0.6666666666666666,
              "#ed7953"
             ],
             [
              0.7777777777777778,
              "#fb9f3a"
             ],
             [
              0.8888888888888888,
              "#fdca26"
             ],
             [
              1,
              "#f0f921"
             ]
            ],
            "type": "histogram2dcontour"
           }
          ],
          "mesh3d": [
           {
            "colorbar": {
             "outlinewidth": 0,
             "ticks": ""
            },
            "type": "mesh3d"
           }
          ],
          "parcoords": [
           {
            "line": {
             "colorbar": {
              "outlinewidth": 0,
              "ticks": ""
             }
            },
            "type": "parcoords"
           }
          ],
          "pie": [
           {
            "automargin": true,
            "type": "pie"
           }
          ],
          "scatter": [
           {
            "marker": {
             "colorbar": {
              "outlinewidth": 0,
              "ticks": ""
             }
            },
            "type": "scatter"
           }
          ],
          "scatter3d": [
           {
            "line": {
             "colorbar": {
              "outlinewidth": 0,
              "ticks": ""
             }
            },
            "marker": {
             "colorbar": {
              "outlinewidth": 0,
              "ticks": ""
             }
            },
            "type": "scatter3d"
           }
          ],
          "scattercarpet": [
           {
            "marker": {
             "colorbar": {
              "outlinewidth": 0,
              "ticks": ""
             }
            },
            "type": "scattercarpet"
           }
          ],
          "scattergeo": [
           {
            "marker": {
             "colorbar": {
              "outlinewidth": 0,
              "ticks": ""
             }
            },
            "type": "scattergeo"
           }
          ],
          "scattergl": [
           {
            "marker": {
             "colorbar": {
              "outlinewidth": 0,
              "ticks": ""
             }
            },
            "type": "scattergl"
           }
          ],
          "scattermapbox": [
           {
            "marker": {
             "colorbar": {
              "outlinewidth": 0,
              "ticks": ""
             }
            },
            "type": "scattermapbox"
           }
          ],
          "scatterpolar": [
           {
            "marker": {
             "colorbar": {
              "outlinewidth": 0,
              "ticks": ""
             }
            },
            "type": "scatterpolar"
           }
          ],
          "scatterpolargl": [
           {
            "marker": {
             "colorbar": {
              "outlinewidth": 0,
              "ticks": ""
             }
            },
            "type": "scatterpolargl"
           }
          ],
          "scatterternary": [
           {
            "marker": {
             "colorbar": {
              "outlinewidth": 0,
              "ticks": ""
             }
            },
            "type": "scatterternary"
           }
          ],
          "surface": [
           {
            "colorbar": {
             "outlinewidth": 0,
             "ticks": ""
            },
            "colorscale": [
             [
              0,
              "#0d0887"
             ],
             [
              0.1111111111111111,
              "#46039f"
             ],
             [
              0.2222222222222222,
              "#7201a8"
             ],
             [
              0.3333333333333333,
              "#9c179e"
             ],
             [
              0.4444444444444444,
              "#bd3786"
             ],
             [
              0.5555555555555556,
              "#d8576b"
             ],
             [
              0.6666666666666666,
              "#ed7953"
             ],
             [
              0.7777777777777778,
              "#fb9f3a"
             ],
             [
              0.8888888888888888,
              "#fdca26"
             ],
             [
              1,
              "#f0f921"
             ]
            ],
            "type": "surface"
           }
          ],
          "table": [
           {
            "cells": {
             "fill": {
              "color": "#EBF0F8"
             },
             "line": {
              "color": "white"
             }
            },
            "header": {
             "fill": {
              "color": "#C8D4E3"
             },
             "line": {
              "color": "white"
             }
            },
            "type": "table"
           }
          ]
         },
         "layout": {
          "annotationdefaults": {
           "arrowcolor": "#2a3f5f",
           "arrowhead": 0,
           "arrowwidth": 1
          },
          "coloraxis": {
           "colorbar": {
            "outlinewidth": 0,
            "ticks": ""
           }
          },
          "colorscale": {
           "diverging": [
            [
             0,
             "#8e0152"
            ],
            [
             0.1,
             "#c51b7d"
            ],
            [
             0.2,
             "#de77ae"
            ],
            [
             0.3,
             "#f1b6da"
            ],
            [
             0.4,
             "#fde0ef"
            ],
            [
             0.5,
             "#f7f7f7"
            ],
            [
             0.6,
             "#e6f5d0"
            ],
            [
             0.7,
             "#b8e186"
            ],
            [
             0.8,
             "#7fbc41"
            ],
            [
             0.9,
             "#4d9221"
            ],
            [
             1,
             "#276419"
            ]
           ],
           "sequential": [
            [
             0,
             "#0d0887"
            ],
            [
             0.1111111111111111,
             "#46039f"
            ],
            [
             0.2222222222222222,
             "#7201a8"
            ],
            [
             0.3333333333333333,
             "#9c179e"
            ],
            [
             0.4444444444444444,
             "#bd3786"
            ],
            [
             0.5555555555555556,
             "#d8576b"
            ],
            [
             0.6666666666666666,
             "#ed7953"
            ],
            [
             0.7777777777777778,
             "#fb9f3a"
            ],
            [
             0.8888888888888888,
             "#fdca26"
            ],
            [
             1,
             "#f0f921"
            ]
           ],
           "sequentialminus": [
            [
             0,
             "#0d0887"
            ],
            [
             0.1111111111111111,
             "#46039f"
            ],
            [
             0.2222222222222222,
             "#7201a8"
            ],
            [
             0.3333333333333333,
             "#9c179e"
            ],
            [
             0.4444444444444444,
             "#bd3786"
            ],
            [
             0.5555555555555556,
             "#d8576b"
            ],
            [
             0.6666666666666666,
             "#ed7953"
            ],
            [
             0.7777777777777778,
             "#fb9f3a"
            ],
            [
             0.8888888888888888,
             "#fdca26"
            ],
            [
             1,
             "#f0f921"
            ]
           ]
          },
          "colorway": [
           "#636efa",
           "#EF553B",
           "#00cc96",
           "#ab63fa",
           "#FFA15A",
           "#19d3f3",
           "#FF6692",
           "#B6E880",
           "#FF97FF",
           "#FECB52"
          ],
          "font": {
           "color": "#2a3f5f"
          },
          "geo": {
           "bgcolor": "white",
           "lakecolor": "white",
           "landcolor": "#E5ECF6",
           "showlakes": true,
           "showland": true,
           "subunitcolor": "white"
          },
          "hoverlabel": {
           "align": "left"
          },
          "hovermode": "closest",
          "mapbox": {
           "style": "light"
          },
          "paper_bgcolor": "white",
          "plot_bgcolor": "#E5ECF6",
          "polar": {
           "angularaxis": {
            "gridcolor": "white",
            "linecolor": "white",
            "ticks": ""
           },
           "bgcolor": "#E5ECF6",
           "radialaxis": {
            "gridcolor": "white",
            "linecolor": "white",
            "ticks": ""
           }
          },
          "scene": {
           "xaxis": {
            "backgroundcolor": "#E5ECF6",
            "gridcolor": "white",
            "gridwidth": 2,
            "linecolor": "white",
            "showbackground": true,
            "ticks": "",
            "zerolinecolor": "white"
           },
           "yaxis": {
            "backgroundcolor": "#E5ECF6",
            "gridcolor": "white",
            "gridwidth": 2,
            "linecolor": "white",
            "showbackground": true,
            "ticks": "",
            "zerolinecolor": "white"
           },
           "zaxis": {
            "backgroundcolor": "#E5ECF6",
            "gridcolor": "white",
            "gridwidth": 2,
            "linecolor": "white",
            "showbackground": true,
            "ticks": "",
            "zerolinecolor": "white"
           }
          },
          "shapedefaults": {
           "line": {
            "color": "#2a3f5f"
           }
          },
          "ternary": {
           "aaxis": {
            "gridcolor": "white",
            "linecolor": "white",
            "ticks": ""
           },
           "baxis": {
            "gridcolor": "white",
            "linecolor": "white",
            "ticks": ""
           },
           "bgcolor": "#E5ECF6",
           "caxis": {
            "gridcolor": "white",
            "linecolor": "white",
            "ticks": ""
           }
          },
          "title": {
           "x": 0.05
          },
          "xaxis": {
           "automargin": true,
           "gridcolor": "white",
           "linecolor": "white",
           "ticks": "",
           "title": {
            "standoff": 15
           },
           "zerolinecolor": "white",
           "zerolinewidth": 2
          },
          "yaxis": {
           "automargin": true,
           "gridcolor": "white",
           "linecolor": "white",
           "ticks": "",
           "title": {
            "standoff": 15
           },
           "zerolinecolor": "white",
           "zerolinewidth": 2
          }
         }
        },
        "title": {
         "text": "Heatmap of correlation between explanatory variables"
        },
        "width": 1000
       }
      }
     },
     "metadata": {}
    }
   ],
   "source": [
    "significant_features = [\"sex_bin\", \"age\", \"address_bin\", \"famsize_bin\", \"Medu\", \"Fedu\", \"guardian_bin\", \"traveltime\", \"studytime\", \n",
    "                             \"failures\", \"schoolsup_bin\", \"paid_bin\", \"higher_bin\", \"romantic_bin\", \"goout\"]\n",
    "\n",
    "fig = go.Figure(go.Heatmap(\n",
    "                    x=data[significant_features].columns,\n",
    "                    y=data[significant_features].columns,\n",
    "                    z=data[significant_features].corr(),\n",
    "                    colorscale=\"RdBu\",\n",
    "                    zmin=-1,\n",
    "                    zmax=1,\n",
    "                ),\n",
    "                layout_title_text=\"Heatmap of correlation between explanatory variables\",\n",
    ")\n",
    "\n",
    "fig.update_layout(\n",
    "    autosize=True,\n",
    "    width=1000,\n",
    "    height=1000,\n",
    "    margin=dict(l=50, r=50, t=100, b=100),\n",
    ")\n",
    "\n",
    "fig.show()"
   ]
  },
  {
   "cell_type": "markdown",
   "metadata": {},
   "source": [
    "Apart from the exception of `Medu` and `Fedu` with a correlation coefficient of 0.623, we can see that most features do not are not too strongly correlated with one another, with values within the range (-0.5, 0.5). This implies that we can consider them all as having explanatory power in their own right.\n",
    "\n",
    "In order to minimise redundancy, we create a new feature, `combined_parental_edu`, which is the sum of education levels of both of the student's parents"
   ]
  },
  {
   "cell_type": "code",
   "execution_count": 14,
   "metadata": {},
   "outputs": [],
   "source": [
    "data[\"combined_parental_edu\"] = data[\"Medu\"] + data[\"Fedu\"]\n",
    "significant_features.remove(\"Medu\")\n",
    "significant_features.remove(\"Fedu\")\n",
    "significant_features.append(\"combined_parental_edu\")\n",
    ""
   ]
  },
  {
   "cell_type": "markdown",
   "metadata": {},
   "source": [
    "## 4 - Insights"
   ]
  },
  {
   "cell_type": "markdown",
   "metadata": {},
   "source": [
    "Here, we will explore some reasoning behind the significance of the some variables we have identified in influencing `G3` scores\n",
    "\n",
    "- `sex` : The observation that male students tend to perform slightly could be due to prevalent societal and cultural influences, which bias males to be more competent in STEM subjects\n",
    "- `age` : An older age may imply that students may have had failed on certain occasions in the past, and had to retake years in school\n",
    "- `address` : Those who live in urban environments (`U`) tend to perform better. Generally, this could be because an urban address is an indicator of higher socioeconomic status and better access to resources \n",
    "- `famsize` : Students with a smaller family size (`LT3`) performed slightly better on average, possibly due to the fact that these students receive more support from their family\n",
    "- `Medu` and `Fedu` : Parental education levels are strongly correlated, as people are likely to enter relationships with those of a similar educational background as them\n",
    "- `guardian` : Students with non-parental guardians perform slightly worse than others. It is possible that this could be a indicator of a poor family history affecting childhood development\n",
    "- `schoolsup` : Students under school support would have already been identified as having weaker academic capability\n",
    "- `higher` : The intention to pursue higher education determines the amount of effort a student puts into his/her studies, as these grades will influence their opportunities for further education \n",
    "- `goout` : Students who go out moderately often the highest `G3` scores. It seems that this is a case of striking a balance between healthy levels of social interaction and leaving time for studies "
   ]
  },
  {
   "cell_type": "markdown",
   "metadata": {},
   "source": [
    "## 5 - Classification model\n",
    "\n",
    "We will use a Naïve Bayes classifier to assess whether the social factors we identified are accurate predictors of `G3`. This classifier works on the assumption that all our factors are mutually independent.\n",
    "\n",
    "First, we create a new boolean column `passed` which captures whether or not the student has passed the test."
   ]
  },
  {
   "cell_type": "code",
   "execution_count": 15,
   "metadata": {},
   "outputs": [],
   "source": [
    "data[\"passed\"] = data[\"G3\"].apply(lambda x : 1 if x >= 10 else 0)"
   ]
  },
  {
   "cell_type": "markdown",
   "metadata": {},
   "source": [
    "### 5.1 - Model Building"
   ]
  },
  {
   "cell_type": "code",
   "execution_count": 16,
   "metadata": {},
   "outputs": [],
   "source": [
    "from sklearn.naive_bayes import CategoricalNB\n",
    "from sklearn.model_selection import train_test_split"
   ]
  },
  {
   "cell_type": "code",
   "execution_count": 17,
   "metadata": {},
   "outputs": [],
   "source": [
    "X = data[significant_features]\n",
    "y = data[\"passed\"]\n",
    "\n",
    "X_train, X_test, y_train, y_test = train_test_split(X, y, test_size=0.25, random_state=42)"
   ]
  },
  {
   "cell_type": "code",
   "execution_count": 18,
   "metadata": {},
   "outputs": [],
   "source": [
    "model = CategoricalNB().fit(X_train, y_train)"
   ]
  },
  {
   "cell_type": "markdown",
   "metadata": {},
   "source": [
    "### 5.2 - Model Evaluation"
   ]
  },
  {
   "cell_type": "code",
   "execution_count": 19,
   "metadata": {},
   "outputs": [
    {
     "output_type": "stream",
     "name": "stdout",
     "text": "Model\n-----\nAccuracy: 0.7070707070707071\nPrecision: 0.7023809523809523\nRecall: 0.9365079365079365\nF1 score: 0.802721088435374\n"
    }
   ],
   "source": [
    "from sklearn.metrics import accuracy_score, precision_score, recall_score, f1_score\n",
    "\n",
    "y_pred = model.predict(X_test)\n",
    "\n",
    "print(\"Model\")\n",
    "print(\"-----\")\n",
    "print(f\"Accuracy: {accuracy_score(y_test, y_pred)}\")\n",
    "print(f\"Precision: {precision_score(y_test, y_pred)}\")\n",
    "print(f\"Recall: {recall_score(y_test, y_pred)}\")\n",
    "print(f\"F1 score: {f1_score(y_test, y_pred)}\")"
   ]
  },
  {
   "cell_type": "markdown",
   "metadata": {},
   "source": [
    "## 6 - Conclusion"
   ]
  },
  {
   "cell_type": "markdown",
   "metadata": {},
   "source": [
    "In this project, we sought to use data anlysis techniques to identify social factors that played a role in determining student academic performance. This was achieved in several sequential processes. Firstly, we did some basic data preprocessing to ensure that the dataset would was suitable for EDA(Exploratory Data Analysis). We then applied a range of data visualisation techniques to find trends and gradually narrow down a set of social factors to focus on. Finally, we put these factors to the test by training a categorical Naïve Bayes classifier to predict whether or not a student would attain a passing score for `G3`.\n",
    "\n",
    "Our model performs fairly well on the whole, with a very high recall and decent precision. While this does not imply any direct causal relationship between academic performance and the social factors identified, it does indicate that these factors are a good place to start from if we want to further study and explain student academic performance."
   ]
  },
  {
   "cell_type": "markdown",
   "metadata": {},
   "source": [
    "## 7 - References\n",
    "- Dataset and data dictionary: https://archive.ics.uci.edu/ml/datasets/Student+Performance#"
   ]
  }
 ],
 "metadata": {
  "colab": {
   "collapsed_sections": [],
   "name": "CS105 Final Project.ipynb",
   "provenance": []
  },
  "kernelspec": {
   "display_name": "Python 3",
   "language": "python",
   "name": "python3"
  },
  "language_info": {
   "codemirror_mode": {
    "name": "ipython",
    "version": 3
   },
   "file_extension": ".py",
   "mimetype": "text/x-python",
   "name": "python",
   "nbconvert_exporter": "python",
   "pygments_lexer": "ipython3",
   "version": "3.7.3-final"
  }
 },
 "nbformat": 4,
 "nbformat_minor": 1
}